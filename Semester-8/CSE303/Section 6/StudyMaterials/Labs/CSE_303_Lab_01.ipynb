{
  "nbformat": 4,
  "nbformat_minor": 0,
  "metadata": {
    "colab": {
      "provenance": []
    },
    "kernelspec": {
      "name": "python3",
      "display_name": "Python 3"
    },
    "language_info": {
      "name": "python"
    }
  },
  "cells": [
    {
      "cell_type": "markdown",
      "source": [
        "# Basic python syntax"
      ],
      "metadata": {
        "id": "wfWvNh1Ccckb"
      }
    },
    {
      "cell_type": "code",
      "execution_count": null,
      "metadata": {
        "colab": {
          "base_uri": "https://localhost:8080/"
        },
        "id": "q8ClmUO8cPso",
        "outputId": "4dbea1d8-4ca3-40fd-8540-62b00360cb15"
      },
      "outputs": [
        {
          "output_type": "stream",
          "name": "stdout",
          "text": [
            "<class 'float'>\n"
          ]
        }
      ],
      "source": [
        "num1 = 5.5\n",
        "print(type(num1))"
      ]
    },
    {
      "cell_type": "code",
      "source": [
        "num1 = float(input(\"Enter a value:\"))\n",
        "print(type(num1))"
      ],
      "metadata": {
        "colab": {
          "base_uri": "https://localhost:8080/"
        },
        "id": "sVjoTC9ydHSb",
        "outputId": "6e7e9715-1c0f-4e44-a63f-87dcdbb0e5c5"
      },
      "execution_count": null,
      "outputs": [
        {
          "output_type": "stream",
          "name": "stdout",
          "text": [
            "Enter a value:6.6\n",
            "<class 'float'>\n"
          ]
        }
      ]
    },
    {
      "cell_type": "code",
      "source": [
        "num1 = float(input(\"Enter value for num1:\"))\n",
        "num2 = float(input(\"Enter value for num2:\"))\n",
        "\n",
        "sum = num1 + num2\n",
        "mul = num1 * num2\n",
        "div = num1 / num2\n",
        "sub = num1 - num2\n",
        "pow = num1 ** num2\n",
        "int_div = num1 // num2\n",
        "mod = num1 % num2\n",
        "print(\"Sum=\",sum)\n",
        "print(\"Mul=\",mul)\n"
      ],
      "metadata": {
        "colab": {
          "base_uri": "https://localhost:8080/"
        },
        "id": "oM0UbwYMeGsb",
        "outputId": "2ac40803-6535-4081-8ced-e82c0c476a62"
      },
      "execution_count": null,
      "outputs": [
        {
          "output_type": "stream",
          "name": "stdout",
          "text": [
            "Enter value for num1:5\n",
            "Enter value for num2:6.5\n",
            "Sum= 11.5\n",
            "Mul= 32.5\n"
          ]
        }
      ]
    },
    {
      "cell_type": "markdown",
      "source": [
        "# Control statements"
      ],
      "metadata": {
        "id": "6C7fZ6JXcrCr"
      }
    },
    {
      "cell_type": "code",
      "source": [
        "if num1 == num2:\n",
        "  print(num1,\"is equal to \",num2)\n",
        "elif num1 <= num2:\n",
        "  print(num1,\"is less than and equal to \",num2)\n",
        "else:\n",
        "  print(num1,\"is not equal to \",num2)"
      ],
      "metadata": {
        "colab": {
          "base_uri": "https://localhost:8080/"
        },
        "id": "6RGpzsHectFq",
        "outputId": "b69e3182-6a46-4c99-da47-831422064702"
      },
      "execution_count": null,
      "outputs": [
        {
          "output_type": "stream",
          "name": "stdout",
          "text": [
            "5.0 is less than and equal to  6.5\n"
          ]
        }
      ]
    },
    {
      "cell_type": "code",
      "source": [
        "i = 0\n",
        "while i<5:\n",
        "  print(i)\n",
        "  i+=1"
      ],
      "metadata": {
        "colab": {
          "base_uri": "https://localhost:8080/"
        },
        "id": "AbEkgaaGfy-z",
        "outputId": "441dbf48-c915-44dd-edaf-fc43fa7b186e"
      },
      "execution_count": null,
      "outputs": [
        {
          "output_type": "stream",
          "name": "stdout",
          "text": [
            "0\n",
            "1\n",
            "2\n",
            "3\n",
            "4\n"
          ]
        }
      ]
    },
    {
      "cell_type": "code",
      "source": [
        "# range(start,end, step)\n",
        "for i in range(10,-1,-1):\n",
        "  print(i)"
      ],
      "metadata": {
        "colab": {
          "base_uri": "https://localhost:8080/"
        },
        "id": "rEgZQBjPhWdM",
        "outputId": "cbbbc2d4-220f-4de9-cae0-a48dc35a3643"
      },
      "execution_count": null,
      "outputs": [
        {
          "output_type": "stream",
          "name": "stdout",
          "text": [
            "10\n",
            "9\n",
            "8\n",
            "7\n",
            "6\n",
            "5\n",
            "4\n",
            "3\n",
            "2\n",
            "1\n",
            "0\n"
          ]
        }
      ]
    },
    {
      "cell_type": "markdown",
      "source": [
        "# Data Structure"
      ],
      "metadata": {
        "id": "LB6QXd1ei2V9"
      }
    },
    {
      "cell_type": "code",
      "source": [
        "value = [5,6.6,5,\"this is a list\"]\n",
        "print(value)"
      ],
      "metadata": {
        "colab": {
          "base_uri": "https://localhost:8080/"
        },
        "id": "PM0h5gGMhw2j",
        "outputId": "52506f3c-10da-4d11-f331-1501d47b2b00"
      },
      "execution_count": null,
      "outputs": [
        {
          "output_type": "stream",
          "name": "stdout",
          "text": [
            "[5, 6.6, 5, 'this is a list']\n"
          ]
        }
      ]
    },
    {
      "cell_type": "code",
      "source": [
        "value = [4,5,5,5,5,\"This is a list\"]\n",
        "print(len(value))"
      ],
      "metadata": {
        "colab": {
          "base_uri": "https://localhost:8080/"
        },
        "id": "RmHdLFgLoYZl",
        "outputId": "bdc604a2-ada3-4fda-c61b-73ab25c2bf2b"
      },
      "execution_count": null,
      "outputs": [
        {
          "output_type": "stream",
          "name": "stdout",
          "text": [
            "6\n"
          ]
        }
      ]
    },
    {
      "cell_type": "code",
      "source": [
        "for i in range(len(value)):\n",
        "  print(value[i])"
      ],
      "metadata": {
        "colab": {
          "base_uri": "https://localhost:8080/"
        },
        "id": "fjq_IF_iorSt",
        "outputId": "8f4bc2b7-5dc8-4c42-e2ce-9e4626c41a1d"
      },
      "execution_count": null,
      "outputs": [
        {
          "output_type": "stream",
          "name": "stdout",
          "text": [
            "4\n",
            "5\n",
            "5\n",
            "5\n",
            "5\n",
            "This is a list\n"
          ]
        }
      ]
    },
    {
      "cell_type": "code",
      "source": [
        "flag = 1\n",
        "for items in value:\n",
        "  if flag == 1:\n",
        "    num = input(\"Enter a value:\")\n",
        "    value.append(num)\n",
        "    flag = 0\n",
        "  print(items)\n",
        "\n",
        "\n"
      ],
      "metadata": {
        "colab": {
          "base_uri": "https://localhost:8080/"
        },
        "id": "sYqViAQ0iyd7",
        "outputId": "05bbae79-be84-480b-9a5e-a2988a444264"
      },
      "execution_count": null,
      "outputs": [
        {
          "output_type": "stream",
          "name": "stdout",
          "text": [
            "Enter a value:6\n",
            "4\n",
            "5\n",
            "5\n",
            "5\n",
            "5\n",
            "6\n"
          ]
        }
      ]
    },
    {
      "cell_type": "code",
      "source": [
        "student = {\n",
        "    \"std1_id\":\"2021-2-60-001\",\n",
        "    \"std2_id\":\"2021-2-60-002\",\n",
        "    \"std3_id\":\"2021-2-60-003\",\n",
        "    \"name\" : [\"std1\",\"std2\",\"std3\"]\n",
        "}"
      ],
      "metadata": {
        "id": "hF32heU_jQ8b"
      },
      "execution_count": null,
      "outputs": []
    },
    {
      "cell_type": "code",
      "source": [
        "print(student[\"std1_id\"])\n",
        "student[\"std4_id\"] = \"2021-2-60-004\"\n",
        "print(student)"
      ],
      "metadata": {
        "colab": {
          "base_uri": "https://localhost:8080/"
        },
        "id": "RllTvoy9nV_M",
        "outputId": "f7d9d4c4-f86b-4991-e24d-3af2cb6aa481"
      },
      "execution_count": null,
      "outputs": [
        {
          "output_type": "stream",
          "name": "stdout",
          "text": [
            "2021-2-60-001\n",
            "{'std1_id': '2021-2-60-001', 'std2_id': '2021-2-60-002', 'std3_id': '2021-2-60-003', 'name': ['std1', 'std2', 'std3'], 'std4_id': '2021-2-60-004'}\n"
          ]
        }
      ]
    },
    {
      "cell_type": "code",
      "source": [
        "for key,value in student.items():\n",
        "  print(\"Dict student key: \",key,\"value:\",value)"
      ],
      "metadata": {
        "colab": {
          "base_uri": "https://localhost:8080/"
        },
        "id": "oyWG_cQGpbfE",
        "outputId": "11968c03-4198-47cf-d856-4662c5ec6d72"
      },
      "execution_count": null,
      "outputs": [
        {
          "output_type": "stream",
          "name": "stdout",
          "text": [
            "Dict student key:  std1_id value: 2021-2-60-001\n",
            "Dict student key:  std2_id value: 2021-2-60-002\n",
            "Dict student key:  std3_id value: 2021-2-60-003\n",
            "Dict student key:  name value: ['std1', 'std2', 'std3']\n",
            "Dict student key:  std4_id value: 2021-2-60-004\n"
          ]
        }
      ]
    },
    {
      "cell_type": "markdown",
      "source": [
        "# function"
      ],
      "metadata": {
        "id": "FgIJ6B0GrwgR"
      }
    },
    {
      "cell_type": "code",
      "source": [
        "def input_number():\n",
        "  num1 = input(\"Enter value of num1\")\n",
        "  num2 = input(\"Enter value of num2\")\n",
        "  return num1,num2\n",
        "\n",
        "#num1, num2 = input_number()\n",
        "\n",
        "def sum(num1=0.0, num2=0.0):\n",
        "  return num1+num2\n",
        "\n",
        "print(sum())"
      ],
      "metadata": {
        "colab": {
          "base_uri": "https://localhost:8080/"
        },
        "id": "8LWUT8wsqJMB",
        "outputId": "03338254-daa7-48bc-b9fb-dfcb8f5ac83c"
      },
      "execution_count": null,
      "outputs": [
        {
          "output_type": "stream",
          "name": "stdout",
          "text": [
            "0.0\n"
          ]
        }
      ]
    },
    {
      "cell_type": "code",
      "source": [
        "student ={\n",
        "    \"std1\":\"2021-1-60-001\"\n",
        "}"
      ],
      "metadata": {
        "id": "exCkeEM_uzbP"
      },
      "execution_count": null,
      "outputs": []
    },
    {
      "cell_type": "code",
      "source": [
        "student={}\n",
        "def input_values():\n",
        "  num = int(input(\"Enter number of students:\"))\n",
        "  for i in range(num):\n",
        "    d = input(\"Enter a student id:\")\n",
        "    student[\"std-\"+str(i+1)] = d\n",
        "def output():\n",
        "  for key,values in student.items():\n",
        "    print(f\"Student {key} and value {value}\")\n",
        "\n",
        "input_values()\n",
        "output()\n"
      ],
      "metadata": {
        "colab": {
          "base_uri": "https://localhost:8080/"
        },
        "id": "DbSmaBBMsQ-a",
        "outputId": "1676a986-55f1-4617-e290-a7d5029e1cfb"
      },
      "execution_count": null,
      "outputs": [
        {
          "output_type": "stream",
          "name": "stdout",
          "text": [
            "Enter number of students:2\n",
            "Enter a student id:2021-1-60-001\n",
            "Enter a student id:2021-1-60-002\n",
            "{'std-0': '2021-1-60-001', 'std-1': '2021-1-60-002'}\n"
          ]
        }
      ]
    },
    {
      "cell_type": "code",
      "source": [],
      "metadata": {
        "id": "4vhb_1sWvfBO"
      },
      "execution_count": null,
      "outputs": []
    }
  ]
}