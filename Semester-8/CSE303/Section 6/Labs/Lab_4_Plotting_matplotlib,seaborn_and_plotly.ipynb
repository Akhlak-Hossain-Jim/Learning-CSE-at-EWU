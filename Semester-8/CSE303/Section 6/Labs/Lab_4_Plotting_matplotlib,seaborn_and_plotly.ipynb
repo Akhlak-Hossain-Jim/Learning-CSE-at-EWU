{
 "cells": [
  {
   "cell_type": "markdown",
   "metadata": {
    "id": "3rlDsU1RdrHE"
   },
   "source": [
    "# Part 1: Matplotlib Basics"
   ]
  },
  {
   "cell_type": "markdown",
   "metadata": {
    "id": "K4vvObaDdyqc"
   },
   "source": [
    "Setup for Matplotlib\n",
    "Before you start, ensure Matplotlib is installed:\n",
    "\n",
    "```\n",
    "pip install matplotlib\n",
    "\n",
    "```\n",
    "\n"
   ]
  },
  {
   "cell_type": "markdown",
   "metadata": {
    "id": "4gX1xr_7d4wM"
   },
   "source": [
    "## Basic Plots with Matplotlib\n",
    "Objective: Create a simple line plot and customize it."
   ]
  },
  {
   "cell_type": "code",
   "execution_count": null,
   "metadata": {
    "colab": {
     "base_uri": "https://localhost:8080/",
     "height": 472
    },
    "executionInfo": {
     "elapsed": 694,
     "status": "ok",
     "timestamp": 1724235330926,
     "user": {
      "displayName": "Mohammad Rifat Ahmmad Rashid",
      "userId": "17207620860184690696"
     },
     "user_tz": -360
    },
    "id": "zQD9zPXUbyFi",
    "outputId": "72714f3c-5cd3-46db-ff00-1163683b41c0"
   },
   "outputs": [],
   "source": [
    "import matplotlib.pyplot as plt\n",
    "\n",
    "# Data for plotting\n",
    "x = [1, 2, 3, 4, 5]\n",
    "y1 = [2, 3, 5, 7, 11]\n",
    "y2 = [4,6,10,14,22]\n",
    "\n",
    "# Create a simple line plot\n",
    "plt.plot(x, y1, label='Prime Numbers')\n",
    "plt.plot(x, y2, label='Prime Numbers Muliplied by 2')\n",
    "\n",
    "# Customize the plot\n",
    "plt.xlabel('Index')\n",
    "plt.ylabel('Value')\n",
    "plt.title('Simple Line Plot')\n",
    "plt.legend()\n",
    "\n",
    "# Show the plot\n",
    "plt.show()\n"
   ]
  },
  {
   "cell_type": "markdown",
   "metadata": {
    "id": "sKc59eSxd-l4"
   },
   "source": [
    "## Plotting Multiple Data Series\n",
    "Objective: Plot multiple lines on the same plot and create subplots."
   ]
  },
  {
   "cell_type": "code",
   "execution_count": null,
   "metadata": {
    "colab": {
     "base_uri": "https://localhost:8080/",
     "height": 1000
    },
    "executionInfo": {
     "elapsed": 2259,
     "status": "ok",
     "timestamp": 1724235547276,
     "user": {
      "displayName": "Mohammad Rifat Ahmmad Rashid",
      "userId": "17207620860184690696"
     },
     "user_tz": -360
    },
    "id": "IdKCxqH6d62W",
    "outputId": "b723d785-a743-46ce-ef5d-5785109138a5"
   },
   "outputs": [],
   "source": [
    "# Data for multiple lines\n",
    "\n",
    "y2 = [1, 4, 9, 16, 25]\n",
    "\n",
    "# Plot multiple lines\n",
    "plt.plot(x, y1, label='Prime Numbers')\n",
    "plt.plot(x, y2, label='Squares', linestyle='--')\n",
    "\n",
    "# Customize the plot\n",
    "plt.xlabel('Index')\n",
    "plt.ylabel('Value')\n",
    "plt.title('Multiple Data Series')\n",
    "plt.legend()\n",
    "\n",
    "# Show the plot\n",
    "plt.show()\n",
    "\n",
    "# Create subplots\n",
    "fig, ax = plt.subplots(2, 2, figsize=(8, 6))\n",
    "\n",
    "ax[0][0].plot(x, y1, marker='o')\n",
    "ax[0][0].set_title('Prime Numbers')\n",
    "\n",
    "ax[0][1].plot(x, y2, marker='s', color='r')\n",
    "ax[0][1].set_title('Squares')\n",
    "\n",
    "ax[1][0].plot(x, y1, marker='o')\n",
    "ax[1][0].set_title('Prime Numbers')\n",
    "\n",
    "ax[1][1].plot(x, y2, marker='s', color='r')\n",
    "ax[1][1].set_title('Squares')\n",
    "\n",
    "plt.tight_layout()\n",
    "plt.show()\n"
   ]
  },
  {
   "cell_type": "markdown",
   "metadata": {
    "id": "gBDBCy2neES9"
   },
   "source": [
    "# Part 2: Seaborn for Statistical Data Visualization\n",
    "Setup for Seaborn\n",
    "Ensure Seaborn is installed:\n",
    "\n",
    "```\n",
    "pip install seaborn\n",
    "\n",
    "```\n",
    "\n",
    "\n"
   ]
  },
  {
   "cell_type": "markdown",
   "metadata": {
    "id": "p9xLauPmeMS_"
   },
   "source": [
    "## Seaborn Basics\n",
    "Objective: Utilize Seaborn for creating scatter plots and histograms."
   ]
  },
  {
   "cell_type": "code",
   "execution_count": null,
   "metadata": {
    "colab": {
     "base_uri": "https://localhost:8080/",
     "height": 206
    },
    "executionInfo": {
     "elapsed": 458,
     "status": "ok",
     "timestamp": 1724235660962,
     "user": {
      "displayName": "Mohammad Rifat Ahmmad Rashid",
      "userId": "17207620860184690696"
     },
     "user_tz": -360
    },
    "id": "3SOZcwVmdBDh",
    "outputId": "aca61fbf-73e1-4623-d028-b12a12365371"
   },
   "outputs": [],
   "source": [
    "import seaborn as sns\n",
    "\n",
    "# Sample data\n",
    "tips = sns.load_dataset('tips')\n",
    "\n",
    "tips.head()"
   ]
  },
  {
   "cell_type": "code",
   "execution_count": null,
   "metadata": {
    "colab": {
     "base_uri": "https://localhost:8080/",
     "height": 927
    },
    "executionInfo": {
     "elapsed": 1885,
     "status": "ok",
     "timestamp": 1724235935733,
     "user": {
      "displayName": "Mohammad Rifat Ahmmad Rashid",
      "userId": "17207620860184690696"
     },
     "user_tz": -360
    },
    "id": "gRFASUxqeBZY",
    "outputId": "368eaf31-b7bd-44bb-c15a-c3b884c681d0"
   },
   "outputs": [],
   "source": [
    "# Scatter plot with hue\n",
    "sns.scatterplot(data=tips, x='total_bill', y='tip', hue='day')\n",
    "\n",
    "plt.title('Scatter Plot with Hue')\n",
    "plt.show()\n",
    "\n",
    "# Distribution plot (histogram)\n",
    "sns.histplot(data=tips, x='total_bill', bins=20, kde=True)\n",
    "\n",
    "plt.title('Distribution of Total Bills')\n",
    "plt.show()\n"
   ]
  },
  {
   "cell_type": "code",
   "execution_count": null,
   "metadata": {
    "colab": {
     "base_uri": "https://localhost:8080/"
    },
    "executionInfo": {
     "elapsed": 4601,
     "status": "ok",
     "timestamp": 1724236044575,
     "user": {
      "displayName": "Mohammad Rifat Ahmmad Rashid",
      "userId": "17207620860184690696"
     },
     "user_tz": -360
    },
    "id": "quK9s6UVyfJQ",
    "outputId": "d4b80b60-acef-43c8-fa9f-94f5aeca9de8"
   },
   "outputs": [],
   "source": [
    "!gdown --id 1Qk5FZxfA_jhDcxI3YmuEIbVgd8ZeldMn"
   ]
  },
  {
   "cell_type": "code",
   "execution_count": null,
   "metadata": {
    "colab": {
     "base_uri": "https://localhost:8080/",
     "height": 223
    },
    "executionInfo": {
     "elapsed": 455,
     "status": "ok",
     "timestamp": 1724236046424,
     "user": {
      "displayName": "Mohammad Rifat Ahmmad Rashid",
      "userId": "17207620860184690696"
     },
     "user_tz": -360
    },
    "id": "DxB032fzyg2o",
    "outputId": "1875b562-e424-41d4-c912-878ab692dc40"
   },
   "outputs": [],
   "source": [
    "import pandas as pd\n",
    "import seaborn as sns\n",
    "\n",
    "df = pd.read_excel(\"/content/BMI Calculation_MJH.xlsx\")\n",
    "df.head()"
   ]
  },
  {
   "cell_type": "code",
   "execution_count": null,
   "metadata": {
    "colab": {
     "base_uri": "https://localhost:8080/",
     "height": 472
    },
    "executionInfo": {
     "elapsed": 1259,
     "status": "ok",
     "timestamp": 1724236114351,
     "user": {
      "displayName": "Mohammad Rifat Ahmmad Rashid",
      "userId": "17207620860184690696"
     },
     "user_tz": -360
    },
    "id": "1hTACC3DyW2I",
    "outputId": "4406e9fa-6b74-4149-c4ba-dc01f44d87b8"
   },
   "outputs": [],
   "source": [
    "# Scatter plot with hue\n",
    "sns.scatterplot(data=df, x='Hieght (cm)', y='Hieght (m2)')\n",
    "\n",
    "plt.title('Scatter Plot with Hue')\n",
    "plt.show()"
   ]
  },
  {
   "cell_type": "code",
   "execution_count": null,
   "metadata": {
    "colab": {
     "base_uri": "https://localhost:8080/",
     "height": 472
    },
    "executionInfo": {
     "elapsed": 3424,
     "status": "ok",
     "timestamp": 1724236222412,
     "user": {
      "displayName": "Mohammad Rifat Ahmmad Rashid",
      "userId": "17207620860184690696"
     },
     "user_tz": -360
    },
    "id": "stFe_HsPzWQz",
    "outputId": "49a96b9f-cbbb-4f0a-81b7-16ec7b351389"
   },
   "outputs": [],
   "source": [
    "# Distribution plot (histogram)\n",
    "sns.histplot(data=df, x='W2', bins=20, kde=True)\n",
    "\n",
    "plt.title('Distribution of W@')\n",
    "plt.show()"
   ]
  },
  {
   "cell_type": "markdown",
   "metadata": {
    "id": "SE-MgNXqeV2-"
   },
   "source": [
    "## Advanced Seaborn Plots\n",
    "Objective: Create boxplots and pairplots to explore datasets."
   ]
  },
  {
   "cell_type": "code",
   "execution_count": null,
   "metadata": {
    "colab": {
     "base_uri": "https://localhost:8080/",
     "height": 1000
    },
    "executionInfo": {
     "elapsed": 8275,
     "status": "ok",
     "timestamp": 1724236345958,
     "user": {
      "displayName": "Mohammad Rifat Ahmmad Rashid",
      "userId": "17207620860184690696"
     },
     "user_tz": -360
    },
    "id": "3m4k5TXPeTDo",
    "outputId": "61c59bc2-8020-47fb-9fd4-db2410d18c06"
   },
   "outputs": [],
   "source": [
    "# Boxplot\n",
    "sns.boxplot(data=tips, x='day', y='total_bill', hue='smoker')\n",
    "\n",
    "plt.title('Boxplot of Total Bills by Day and Smoker')\n",
    "plt.show()\n",
    "\n",
    "# Pairplot\n",
    "sns.pairplot(data=tips, hue='sex')\n",
    "\n",
    "plt.title('Pairplot with Hue based on Sex')\n",
    "plt.show()\n"
   ]
  },
  {
   "cell_type": "code",
   "execution_count": null,
   "metadata": {
    "colab": {
     "base_uri": "https://localhost:8080/",
     "height": 452
    },
    "executionInfo": {
     "elapsed": 1149,
     "status": "ok",
     "timestamp": 1724236933159,
     "user": {
      "displayName": "Mohammad Rifat Ahmmad Rashid",
      "userId": "17207620860184690696"
     },
     "user_tz": -360
    },
    "id": "060ZUoYnzupJ",
    "outputId": "4f3fcd01-bd03-432c-aa15-57950f63c374"
   },
   "outputs": [],
   "source": [
    "# Boxplot\n",
    "sns.boxplot(data=df[['W1','W2','Hieght (cm)']])\n",
    "\n",
    "plt.title('BMI Index')\n",
    "plt.show()\n"
   ]
  },
  {
   "cell_type": "code",
   "execution_count": null,
   "metadata": {
    "colab": {
     "base_uri": "https://localhost:8080/",
     "height": 747
    },
    "executionInfo": {
     "elapsed": 5910,
     "status": "ok",
     "timestamp": 1724237095959,
     "user": {
      "displayName": "Mohammad Rifat Ahmmad Rashid",
      "userId": "17207620860184690696"
     },
     "user_tz": -360
    },
    "id": "KAwahadnf9rA",
    "outputId": "269f22c7-ffcf-4b0e-877c-42fb5fe99a0f"
   },
   "outputs": [],
   "source": [
    "# Boxplot\n",
    "sns.pairplot(data=df[['W1','W2','Hieght (cm)']])\n",
    "\n",
    "plt.title('BMI Index')\n",
    "plt.show()"
   ]
  },
  {
   "cell_type": "markdown",
   "metadata": {
    "id": "3Qb_aVHSed87"
   },
   "source": [
    "# Part 3: Interactive Plots with Plotly\n",
    "Setup for Plotly\n",
    "Ensure Plotly is installed:\n",
    "\n",
    "\n",
    "```\n",
    "pip install plotly\n",
    "\n",
    "```\n",
    "\n"
   ]
  },
  {
   "cell_type": "markdown",
   "metadata": {
    "id": "7y3GvtcEekVW"
   },
   "source": [
    "## Basic Interactive Plots with Plotly\n",
    "Objective: Create interactive plots using Plotly Express."
   ]
  },
  {
   "cell_type": "code",
   "execution_count": null,
   "metadata": {
    "colab": {
     "base_uri": "https://localhost:8080/",
     "height": 1000
    },
    "executionInfo": {
     "elapsed": 473,
     "status": "ok",
     "timestamp": 1724237301725,
     "user": {
      "displayName": "Mohammad Rifat Ahmmad Rashid",
      "userId": "17207620860184690696"
     },
     "user_tz": -360
    },
    "id": "jMKJaZJGeaQC",
    "outputId": "84e21ab9-7e16-4ebc-8da3-e6c1b40a065e"
   },
   "outputs": [],
   "source": [
    "import plotly.express as px\n",
    "x = [1,2,3,4,5]\n",
    "y = [2,3,5,7,11]\n",
    "# Interactive line plot\n",
    "fig = px.line(x=x, y=y, title='Interactive Line Plot')\n",
    "fig.show()\n",
    "\n",
    "# Interactive scatter plot\n",
    "fig = px.scatter(tips, x='total_bill', y='tip', color='time',\n",
    "                 title='Interactive Scatter Plot')\n",
    "fig.show()\n"
   ]
  },
  {
   "cell_type": "markdown",
   "metadata": {
    "id": "6r7HSf7ueoph"
   },
   "source": [
    "## Advanced Interactive Visualizations\n",
    "Objective: Generate advanced interactive visualizations, including histograms and 3D scatter plots."
   ]
  },
  {
   "cell_type": "code",
   "execution_count": null,
   "metadata": {
    "colab": {
     "base_uri": "https://localhost:8080/",
     "height": 1000
    },
    "executionInfo": {
     "elapsed": 440,
     "status": "ok",
     "timestamp": 1724237486463,
     "user": {
      "displayName": "Mohammad Rifat Ahmmad Rashid",
      "userId": "17207620860184690696"
     },
     "user_tz": -360
    },
    "id": "Zt1alHnCemNX",
    "outputId": "bac18d2a-d9b6-41ad-9a36-c8c03d9a442f"
   },
   "outputs": [],
   "source": [
    "# Interactive histogram\n",
    "fig = px.histogram(tips, x='total_bill', nbins=20, title='Interactive Histogram')\n",
    "fig.show()\n",
    "\n",
    "# 3D scatter plot\n",
    "fig = px.scatter_3d(tips, x='total_bill', y='tip', z='size', color='time', title='3D Scatter Plot')\n",
    "fig.show()\n"
   ]
  },
  {
   "cell_type": "markdown",
   "metadata": {
    "id": "w8cirPZEfLAK"
   },
   "source": [
    "# Load dataset"
   ]
  },
  {
   "cell_type": "code",
   "execution_count": null,
   "metadata": {
    "colab": {
     "base_uri": "https://localhost:8080/",
     "height": 0
    },
    "executionInfo": {
     "elapsed": 4391,
     "status": "ok",
     "timestamp": 1724235335832,
     "user": {
      "displayName": "Mohammad Rifat Ahmmad Rashid",
      "userId": "17207620860184690696"
     },
     "user_tz": -360
    },
    "id": "1Sd1TY7UetHj",
    "outputId": "8ca6a602-072e-4848-cac9-5871eb0f71f5"
   },
   "outputs": [],
   "source": [
    "!gdown --id 1Qk5FZxfA_jhDcxI3YmuEIbVgd8ZeldMn"
   ]
  },
  {
   "cell_type": "markdown",
   "metadata": {
    "id": "-ubv_78GfRRZ"
   },
   "source": [
    "# Read Dataset"
   ]
  },
  {
   "cell_type": "code",
   "execution_count": null,
   "metadata": {
    "colab": {
     "base_uri": "https://localhost:8080/",
     "height": 223
    },
    "executionInfo": {
     "elapsed": 531,
     "status": "ok",
     "timestamp": 1724237629540,
     "user": {
      "displayName": "Mohammad Rifat Ahmmad Rashid",
      "userId": "17207620860184690696"
     },
     "user_tz": -360
    },
    "id": "0TkeJAGGfPSL",
    "outputId": "f980d2da-bfbf-4ccd-ea81-ce9600fb894c"
   },
   "outputs": [],
   "source": [
    "import pandas as pd\n",
    "\n",
    "# Load the Excel file\n",
    "file_path = '/content/BMI Calculation_MJH.xlsx'\n",
    "df = pd.read_excel(file_path)\n",
    "\n",
    "# Display the first few rows of the DataFrame to understand its structure\n",
    "df.head()"
   ]
  },
  {
   "cell_type": "markdown",
   "metadata": {
    "id": "7wsLgxZwnS2Y"
   },
   "source": [
    "The dataset consists of the following columns:\n",
    "\n",
    "* **Feet and Inch:** Representing the height of individuals, which could be considered as discrete variables for classification purposes, but more often, height is treated as continuous when combined into a single metric (e.g., total inches or centimeters).\n",
    "* **Height (cm) and Height (m2):** Continuous variables representing height in centimeters and height squared in meters squared, respectively, used in BMI calculations.\n",
    "* **W1 and W2:** Weights before and during COVID, continuous variables representing individuals' weight in kilograms at two different times.\n",
    "* **BMI (Before COVID) and BMI (During COVID):** Continuous variables representing individuals' Body Mass Index before and during the COVID pandemic."
   ]
  },
  {
   "cell_type": "code",
   "execution_count": null,
   "metadata": {
    "executionInfo": {
     "elapsed": 2319,
     "status": "ok",
     "timestamp": 1724235341171,
     "user": {
      "displayName": "Mohammad Rifat Ahmmad Rashid",
      "userId": "17207620860184690696"
     },
     "user_tz": -360
    },
    "id": "zx_693vefdLE"
   },
   "outputs": [],
   "source": [
    "import seaborn as sns\n",
    "import matplotlib.pyplot as plt\n",
    "import pandas as pd"
   ]
  },
  {
   "cell_type": "code",
   "execution_count": null,
   "metadata": {
    "colab": {
     "base_uri": "https://localhost:8080/",
     "height": 206
    },
    "executionInfo": {
     "elapsed": 962,
     "status": "ok",
     "timestamp": 1724237641252,
     "user": {
      "displayName": "Mohammad Rifat Ahmmad Rashid",
      "userId": "17207620860184690696"
     },
     "user_tz": -360
    },
    "id": "DI_VNDySfjvM",
    "outputId": "23cc8d8a-3bf7-457c-9a96-a12c461db9b1"
   },
   "outputs": [],
   "source": [
    "df_melted = pd.melt(df.reset_index(), id_vars=['index'], value_vars=['BMI (Before COVID)', 'BMI (During COVID)'],\n",
    "                    var_name='Period', value_name='BMI')\n",
    "\n",
    "df_melted.head()"
   ]
  },
  {
   "cell_type": "code",
   "execution_count": null,
   "metadata": {
    "colab": {
     "base_uri": "https://localhost:8080/",
     "height": 487
    },
    "executionInfo": {
     "elapsed": 1673,
     "status": "ok",
     "timestamp": 1724237820717,
     "user": {
      "displayName": "Mohammad Rifat Ahmmad Rashid",
      "userId": "17207620860184690696"
     },
     "user_tz": -360
    },
    "id": "60Rbn9DrkjLy",
    "outputId": "1ecc685a-70a8-42d7-e1f2-8d19a661edb3"
   },
   "outputs": [],
   "source": [
    "# Create a lineplot for BMI comparison\n",
    "plt.figure(figsize=(10, 6))\n",
    "sns.lineplot(data=df_melted, x='index', y='BMI', hue='Period', marker='o')\n",
    "plt.xlabel('Individual')\n",
    "plt.ylabel('BMI')\n",
    "plt.title('BMI Comparison Before and During COVID with Seaborn')\n",
    "plt.legend(title='Period')\n",
    "plt.show()"
   ]
  },
  {
   "cell_type": "code",
   "execution_count": null,
   "metadata": {
    "colab": {
     "base_uri": "https://localhost:8080/",
     "height": 486
    },
    "executionInfo": {
     "elapsed": 819,
     "status": "ok",
     "timestamp": 1724235343183,
     "user": {
      "displayName": "Mohammad Rifat Ahmmad Rashid",
      "userId": "17207620860184690696"
     },
     "user_tz": -360
    },
    "id": "M_WBT1XegLQl",
    "outputId": "9c84cf7a-15b7-417b-8f36-d0cb89cab60c"
   },
   "outputs": [],
   "source": [
    "# First, calculate BMI Change if not already in df\n",
    "df['BMI Change'] = df['BMI (During COVID)'] - df['BMI (Before COVID)']\n",
    "\n",
    "plt.figure(figsize=(10, 6))\n",
    "sns.scatterplot(data=df, x='Hieght (cm)', y='BMI Change')\n",
    "plt.xlabel('Height (cm)')\n",
    "plt.ylabel('BMI Change')\n",
    "plt.title('Height vs. BMI Change During COVID with Seaborn')\n",
    "plt.grid(True)\n",
    "plt.show()"
   ]
  },
  {
   "cell_type": "code",
   "execution_count": null,
   "metadata": {
    "colab": {
     "base_uri": "https://localhost:8080/",
     "height": 1067
    },
    "executionInfo": {
     "elapsed": 2150,
     "status": "ok",
     "timestamp": 1724235345331,
     "user": {
      "displayName": "Mohammad Rifat Ahmmad Rashid",
      "userId": "17207620860184690696"
     },
     "user_tz": -360
    },
    "id": "3vKQ7aO4gLqM",
    "outputId": "1080ed30-9d36-4e19-994e-5f4db7fad53d"
   },
   "outputs": [],
   "source": [
    "import plotly.express as px\n",
    "import pandas as pd\n",
    "\n",
    "# Assuming df is your DataFrame loaded from the Excel file\n",
    "\n",
    "# Transform DataFrame for Plotly plotting (if not already done)\n",
    "df_melted = pd.melt(df.reset_index(), id_vars=['index'], value_vars=['BMI (Before COVID)', 'BMI (During COVID)'],\n",
    "                    var_name='Period', value_name='BMI')\n",
    "\n",
    "# Plot 1: BMI Comparison Before and During COVID with Plotly\n",
    "fig = px.line(df_melted, x='index', y='BMI', color='Period', markers=True,\n",
    "              labels={'index': 'Individual'}, title='BMI Comparison Before and During COVID with Plotly')\n",
    "fig.update_layout(xaxis_title='Individual', yaxis_title='BMI')\n",
    "fig.show()\n",
    "\n",
    "# Calculate BMI Change if not already in df\n",
    "df['BMI Change'] = df['BMI (During COVID)'] - df['BMI (Before COVID)']\n",
    "\n",
    "# Plot 2: Height vs. BMI Change Scatter Plot with Plotly\n",
    "fig = px.scatter(df, x='Hieght (cm)', y='BMI Change', title='Height vs. BMI Change During COVID with Plotly',\n",
    "                 labels={'Hieght (cm)': 'Height (cm)', 'BMI Change': 'BMI Change'})\n",
    "fig.update_layout(xaxis_title='Height (cm)', yaxis_title='BMI Change')\n",
    "fig.add_hline(y=0, line_dash=\"dash\", line_color=\"red\")  # Add a horizontal line at y=0 for reference\n",
    "fig.show()\n",
    "\n"
   ]
  },
  {
   "cell_type": "code",
   "execution_count": null,
   "metadata": {
    "colab": {
     "base_uri": "https://localhost:8080/"
    },
    "executionInfo": {
     "elapsed": 4,
     "status": "ok",
     "timestamp": 1724238004436,
     "user": {
      "displayName": "Mohammad Rifat Ahmmad Rashid",
      "userId": "17207620860184690696"
     },
     "user_tz": -360
    },
    "id": "hof4g4gNl-pC",
    "outputId": "05c835fa-d004-4e13-b3df-a3de5475ba77"
   },
   "outputs": [],
   "source": [
    "df.info()"
   ]
  },
  {
   "cell_type": "code",
   "execution_count": null,
   "metadata": {
    "id": "GuAv11kWl_oJ"
   },
   "outputs": [],
   "source": []
  }
 ],
 "metadata": {
  "colab": {
   "provenance": []
  },
  "kernelspec": {
   "display_name": "Python 3",
   "name": "python3"
  },
  "language_info": {
   "name": "python"
  }
 },
 "nbformat": 4,
 "nbformat_minor": 0
}
