{
  "cells": [
    {
      "cell_type": "markdown",
      "metadata": {
        "id": "QkO3M91PBBlt"
      },
      "source": [
        "# Download Dataset"
      ]
    },
    {
      "cell_type": "code",
      "execution_count": null,
      "metadata": {
        "colab": {
          "base_uri": "https://localhost:8080/"
        },
        "id": "3zqYG0f8_SSi",
        "outputId": "212cd2e2-f020-4e9c-a220-acde2068fba9"
      },
      "outputs": [],
      "source": [
        "!gdown --id 1C5Z4X6T-6j-OIUyifd0WEal_kSTLheGF"
      ]
    },
    {
      "cell_type": "code",
      "execution_count": null,
      "metadata": {
        "colab": {
          "base_uri": "https://localhost:8080/"
        },
        "id": "vaeY7M4xBDTB",
        "outputId": "459b9b86-f040-422d-c0a1-eb95e41f1891"
      },
      "outputs": [],
      "source": [
        "!pip install shap lime"
      ]
    },
    {
      "cell_type": "markdown",
      "metadata": {
        "id": "7M-UJx5xCVKQ"
      },
      "source": [
        "# Load Dataset and Feature Engineering"
      ]
    },
    {
      "cell_type": "code",
      "execution_count": null,
      "metadata": {
        "colab": {
          "base_uri": "https://localhost:8080/",
          "height": 578
        },
        "id": "WiyXlczoDdgv",
        "outputId": "bd6088ad-fd79-4cc6-a651-cd8c3e0230ca"
      },
      "outputs": [],
      "source": [
        "import pandas as pd\n",
        "from sklearn.model_selection import train_test_split\n",
        "from sklearn.preprocessing import StandardScaler\n",
        "from xgboost import XGBRegressor\n",
        "import shap\n",
        "\n",
        "# Load the data\n",
        "data = pd.read_csv('/content/USA_Housing.csv')\n",
        "\n",
        "# Separate features and target\n",
        "X = data.drop(columns=['Price', 'Address'])  # Assuming 'Address' is not a numeric feature\n",
        "y = data['Price']\n",
        "\n",
        "# Scale the features\n",
        "scaler = StandardScaler()\n",
        "X_scaled = scaler.fit_transform(X)\n",
        "\n",
        "# Split the data into training and testing sets\n",
        "X_train, X_test, y_train, y_test = train_test_split(X_scaled, y, test_size=0.2, random_state=42)\n",
        "\n",
        "# Initialize the XGBRegressor with specified parameters\n",
        "xgb_regressor = XGBRegressor(\n",
        "    max_depth=3,\n",
        "    learning_rate=0.01,\n",
        "    subsample=0.5,\n",
        "    n_estimators=1000,\n",
        "    verbosity=0\n",
        ")\n",
        "\n",
        "# Fit the model\n",
        "xgb_regressor.fit(X_train, y_train)\n",
        "\n",
        "# Compute SHAP values\n",
        "explainer = shap.Explainer(xgb_regressor, X_train)\n",
        "shap_values = explainer(X_test)\n",
        "\n",
        "# Visualizations\n",
        "shap.summary_plot(shap_values, X_test, plot_type=\"bar\", feature_names=X.columns)  # Summary bar plot\n",
        "shap.summary_plot(shap_values, X_test, plot_type=\"dot\", feature_names=X.columns)  # Summary bee-swarm plot\n",
        "\n"
      ]
    },
    {
      "cell_type": "code",
      "execution_count": null,
      "metadata": {
        "colab": {
          "base_uri": "https://localhost:8080/"
        },
        "id": "wcdoz1K4GgGh",
        "outputId": "a6050d37-8658-4e6d-b95a-3fb9ea085c34"
      },
      "outputs": [],
      "source": [
        "data.info()"
      ]
    },
    {
      "cell_type": "code",
      "execution_count": null,
      "metadata": {
        "colab": {
          "base_uri": "https://localhost:8080/",
          "height": 646
        },
        "id": "ImRzg8puEvU6",
        "outputId": "6684bc68-0355-41d5-bd9b-ba5cd02bb8e8"
      },
      "outputs": [],
      "source": [
        "import numpy as np\n",
        "# Calculate the mean of the absolute SHAP values for each feature\n",
        "mean_shap_values = np.abs(shap_values.values).mean(axis=0)\n",
        "top_feature_index = np.argmax(mean_shap_values)\n",
        "top_feature = X.columns[top_feature_index]\n",
        "\n",
        "# Dependence plot for the most important feature\n",
        "shap.dependence_plot(top_feature_index, shap_values.values, X_test, feature_names=X.columns)\n",
        "\n",
        "# Assuming X_test is still a DataFrame. If it's not, make sure to convert or keep it as a DataFrame after scaling.\n",
        "shap.initjs()\n",
        "# Force plot for a single prediction\n",
        "shap.force_plot(explainer.expected_value, shap_values.values[0,:], X_test[0,:], feature_names=X.columns)\n",
        "\n",
        "\n"
      ]
    },
    {
      "cell_type": "markdown",
      "metadata": {
        "id": "qsWEeHNdJhUN"
      },
      "source": [
        "# Visualize a single prediction"
      ]
    },
    {
      "cell_type": "code",
      "execution_count": null,
      "metadata": {
        "colab": {
          "base_uri": "https://localhost:8080/"
        },
        "id": "-tIq9T8CGS57",
        "outputId": "de2e8ba9-f290-444c-9571-5c1b9f9086ef"
      },
      "outputs": [],
      "source": [
        "e3 = shap.TreeExplainer(xgb_regressor, X_train)\n",
        "t = e3.shap_values(X_test)\n"
      ]
    },
    {
      "cell_type": "code",
      "execution_count": null,
      "metadata": {
        "colab": {
          "base_uri": "https://localhost:8080/",
          "height": 411
        },
        "id": "7SQI9D0JJBrP",
        "outputId": "579f80d8-354e-4226-8536-19d8e875cc26"
      },
      "outputs": [],
      "source": [
        "shap.initjs()\n",
        "shap.force_plot(e3.expected_value, shap_values.values[0:500,:], X_test[0:500,:], feature_names=X.columns)"
      ]
    },
    {
      "cell_type": "markdown",
      "metadata": {
        "id": "sUjZ26N2J-E-"
      },
      "source": [
        "# LIME"
      ]
    },
    {
      "cell_type": "code",
      "execution_count": null,
      "metadata": {
        "colab": {
          "base_uri": "https://localhost:8080/",
          "height": 186
        },
        "id": "RZGDlT55JDID",
        "outputId": "f4932eb8-4a69-4536-b797-cf4603bbdc85"
      },
      "outputs": [],
      "source": [
        "import lime\n",
        "import lime.lime_tabular\n",
        "from xgboost import XGBRegressor\n",
        "from sklearn.model_selection import train_test_split\n",
        "from sklearn.preprocessing import StandardScaler\n",
        "import pandas as pd\n",
        "\n",
        "# Load the data\n",
        "data = pd.read_csv('/content/USA_Housing.csv')\n",
        "\n",
        "# Separate features and target\n",
        "X = data.drop(columns=['Price', 'Address'])\n",
        "y = data['Price']\n",
        "\n",
        "# Scale the features\n",
        "scaler = StandardScaler()\n",
        "X_scaled = scaler.fit_transform(X)\n",
        "X = pd.DataFrame(X_scaled, columns=X.columns)  # Convert scaled data back to DataFrame\n",
        "\n",
        "# Split the data\n",
        "X_train, X_test, y_train, y_test = train_test_split(X, y, test_size=0.2, random_state=42)\n",
        "\n",
        "# Train the model\n",
        "model = XGBRegressor(\n",
        "    max_depth=1,\n",
        "    learning_rate=0.01,\n",
        "    subsample=0.5,\n",
        "    n_estimators=1000,\n",
        "    verbosity=0\n",
        ")\n",
        "model.fit(X_train, y_train)\n",
        "\n",
        "# Initialize LIME explainer\n",
        "explainer = lime.lime_tabular.LimeTabularExplainer(\n",
        "    training_data=X_train.to_numpy(),\n",
        "    feature_names=X_train.columns,\n",
        "    class_names=['Price'],\n",
        "    mode='regression'\n",
        ")\n",
        "\n",
        "# Choose an instance to explain\n",
        "instance_index = 10  # Change based on the specific prediction you want to explain\n",
        "instance = X_test.iloc[instance_index].to_numpy()\n",
        "\n",
        "# Generate explanation\n",
        "explanation = explainer.explain_instance(\n",
        "    data_row=instance,\n",
        "    predict_fn=model.predict,\n",
        "    num_features=5\n",
        ")\n",
        "\n",
        "# Show the explanation\n",
        "explanation.show_in_notebook(show_table=True)\n"
      ]
    },
    {
      "cell_type": "code",
      "execution_count": null,
      "metadata": {
        "id": "v0dVqxYEJ_Op"
      },
      "outputs": [],
      "source": []
    }
  ],
  "metadata": {
    "colab": {
      "provenance": []
    },
    "kernelspec": {
      "display_name": "Python 3",
      "name": "python3"
    },
    "language_info": {
      "name": "python"
    }
  },
  "nbformat": 4,
  "nbformat_minor": 0
}
