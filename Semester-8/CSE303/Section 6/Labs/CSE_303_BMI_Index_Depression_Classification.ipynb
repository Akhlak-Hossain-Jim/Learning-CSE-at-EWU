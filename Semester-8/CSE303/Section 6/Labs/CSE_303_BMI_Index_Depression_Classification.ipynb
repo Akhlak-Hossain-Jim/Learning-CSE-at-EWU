{
  "cells": [
    {
      "cell_type": "markdown",
      "metadata": {
        "id": "Q_qwFtwPubAD"
      },
      "source": [
        "# Download Dataset"
      ]
    },
    {
      "cell_type": "code",
      "execution_count": null,
      "metadata": {
        "colab": {
          "base_uri": "https://localhost:8080/"
        },
        "id": "oWkYDKVlst_R",
        "outputId": "f24c6ba0-5ccd-4a8a-dd95-8c2c8a11b68b"
      },
      "outputs": [],
      "source": [
        "!gdown --id 1cQrNtrsgMhYtGSvEvU-Ox9YOHhXSdSkO"
      ]
    },
    {
      "cell_type": "markdown",
      "metadata": {
        "id": "8gsldtn2uerK"
      },
      "source": [
        "# Load Dataset"
      ]
    },
    {
      "cell_type": "code",
      "execution_count": null,
      "metadata": {
        "_cell_guid": "b1076dfc-b9ad-4769-8c92-a6c4dae69d19",
        "_uuid": "8f2839f25d086af736a60e9eeb907d3b93b6e0e5",
        "execution": {
          "iopub.execute_input": "2024-05-11T15:58:16.295461Z",
          "iopub.status.busy": "2024-05-11T15:58:16.295081Z",
          "iopub.status.idle": "2024-05-11T15:58:16.736581Z",
          "shell.execute_reply": "2024-05-11T15:58:16.735595Z",
          "shell.execute_reply.started": "2024-05-11T15:58:16.295432Z"
        },
        "id": "AIyzUudYsUt9",
        "trusted": true
      },
      "outputs": [],
      "source": [
        "import numpy as np # linear algebra\n",
        "import pandas as pd # data processing, CSV file I/O (e.g. pd.read_csv)"
      ]
    },
    {
      "cell_type": "code",
      "execution_count": null,
      "metadata": {
        "execution": {
          "iopub.execute_input": "2024-05-11T15:58:19.689834Z",
          "iopub.status.busy": "2024-05-11T15:58:19.689031Z",
          "iopub.status.idle": "2024-05-11T15:58:20.928144Z",
          "shell.execute_reply": "2024-05-11T15:58:20.926928Z",
          "shell.execute_reply.started": "2024-05-11T15:58:19.6898Z"
        },
        "id": "F8U5cMSasUt-",
        "trusted": true
      },
      "outputs": [],
      "source": [
        "df = pd.read_excel('/content/Raw dataset_MJH.xlsx')"
      ]
    },
    {
      "cell_type": "code",
      "execution_count": null,
      "metadata": {
        "colab": {
          "base_uri": "https://localhost:8080/",
          "height": 446
        },
        "execution": {
          "iopub.execute_input": "2024-05-11T15:58:22.878393Z",
          "iopub.status.busy": "2024-05-11T15:58:22.877831Z",
          "iopub.status.idle": "2024-05-11T15:58:22.918242Z",
          "shell.execute_reply": "2024-05-11T15:58:22.916957Z",
          "shell.execute_reply.started": "2024-05-11T15:58:22.878358Z"
        },
        "id": "C0dBJX8AsUt_",
        "outputId": "79bbfbfa-859a-4c1f-8b5f-e0a9b072358c",
        "trusted": true
      },
      "outputs": [],
      "source": [
        "df.head()"
      ]
    },
    {
      "cell_type": "code",
      "execution_count": null,
      "metadata": {
        "colab": {
          "base_uri": "https://localhost:8080/"
        },
        "execution": {
          "iopub.execute_input": "2024-05-11T15:58:47.439914Z",
          "iopub.status.busy": "2024-05-11T15:58:47.439512Z",
          "iopub.status.idle": "2024-05-11T15:58:47.465934Z",
          "shell.execute_reply": "2024-05-11T15:58:47.464833Z",
          "shell.execute_reply.started": "2024-05-11T15:58:47.439856Z"
        },
        "id": "hZpBVFrPsUuA",
        "outputId": "f815ceb3-6c8e-4afc-babc-a4a484c45b53",
        "trusted": true
      },
      "outputs": [],
      "source": [
        "df.info()"
      ]
    },
    {
      "cell_type": "code",
      "execution_count": null,
      "metadata": {
        "id": "iOhChCFXKfsa"
      },
      "outputs": [],
      "source": []
    },
    {
      "cell_type": "markdown",
      "metadata": {
        "id": "7Op65Qg_u_Kp"
      },
      "source": [
        "# Data preparation and Feature Engineering"
      ]
    },
    {
      "cell_type": "code",
      "execution_count": null,
      "metadata": {
        "id": "EyPg7XjavDDh"
      },
      "outputs": [],
      "source": [
        "import pandas as pd\n",
        "from sklearn.preprocessing import LabelEncoder, StandardScaler, MinMaxScaler\n",
        "from sklearn.model_selection import train_test_split"
      ]
    },
    {
      "cell_type": "code",
      "execution_count": null,
      "metadata": {
        "id": "s3VJamPnvEwv"
      },
      "outputs": [],
      "source": [
        "# Load data\n",
        "data =  pd.read_excel('/content/Raw dataset_MJH.xlsx')"
      ]
    },
    {
      "cell_type": "code",
      "execution_count": null,
      "metadata": {
        "id": "XgCZQuhWKh1a"
      },
      "outputs": [],
      "source": [
        "data = data.drop(['Sr No'], axis = 1)"
      ]
    },
    {
      "cell_type": "code",
      "execution_count": null,
      "metadata": {
        "execution": {
          "iopub.execute_input": "2024-05-11T16:27:40.317831Z",
          "iopub.status.busy": "2024-05-11T16:27:40.317467Z",
          "iopub.status.idle": "2024-05-11T16:27:41.142335Z",
          "shell.execute_reply": "2024-05-11T16:27:41.140775Z",
          "shell.execute_reply.started": "2024-05-11T16:27:40.317804Z"
        },
        "id": "NC1SH3nRsUuB",
        "trusted": true
      },
      "outputs": [],
      "source": [
        "# Handle missing values\n",
        "# Assuming missing values can be replaced with the mean for continuous and mode for categorical\n",
        "for column in data.columns:\n",
        "    if data[column].dtype == 'object':\n",
        "        data[column] = data[column].fillna(data[column].mode()[0])\n",
        "    else:\n",
        "        data[column] = data[column].fillna(data[column].mean())\n"
      ]
    },
    {
      "cell_type": "code",
      "execution_count": null,
      "metadata": {
        "id": "jQ54xPubvvcm"
      },
      "outputs": [],
      "source": [
        "# Convert categorical variables using Label Encoding\n",
        "label_encoders = {}\n",
        "for column in data.columns:\n",
        "    if data[column].dtype == 'object':\n",
        "        le = LabelEncoder()\n",
        "        data[column] = le.fit_transform(data[column])\n",
        "        label_encoders[column] = le\n",
        "\n"
      ]
    },
    {
      "cell_type": "code",
      "execution_count": null,
      "metadata": {
        "colab": {
          "base_uri": "https://localhost:8080/"
        },
        "id": "HU3hktYggkBp",
        "outputId": "dc26f96d-f864-4468-c792-d811cad4bb56"
      },
      "outputs": [],
      "source": [
        "label_encoders"
      ]
    },
    {
      "cell_type": "code",
      "execution_count": null,
      "metadata": {
        "id": "ZGMG5cQbvyUU"
      },
      "outputs": [],
      "source": [
        "# Feature Engineering\n",
        "# Deriving categorical bins for age and BMI\n",
        "data['Age Group'] = pd.cut(data['2. Age (years)=?'], bins=[0, 18, 35, 50, 65, 100], labels=['Child', 'Youth', 'Adult', 'Middle-aged', 'Senior'])\n",
        "data['BMI Category'] = pd.cut(data['8. BMI-before COVID'], bins=[0, 18.5, 24.9, 29.9, 40], labels=['Underweight', 'Normal', 'Overweight', 'Obese'])\n",
        "\n",
        "# Encode new categorical features\n",
        "data['Age Group'] = LabelEncoder().fit_transform(data['Age Group'])\n",
        "data['BMI Category'] = LabelEncoder().fit_transform(data['BMI Category'])"
      ]
    },
    {
      "cell_type": "code",
      "execution_count": null,
      "metadata": {
        "colab": {
          "base_uri": "https://localhost:8080/",
          "height": 325
        },
        "execution": {
          "iopub.execute_input": "2024-05-11T16:27:44.548837Z",
          "iopub.status.busy": "2024-05-11T16:27:44.54844Z",
          "iopub.status.idle": "2024-05-11T16:27:44.574317Z",
          "shell.execute_reply": "2024-05-11T16:27:44.573241Z",
          "shell.execute_reply.started": "2024-05-11T16:27:44.548806Z"
        },
        "id": "dBsebLGDsUuC",
        "outputId": "7b204ee6-f0c4-4496-b7a4-7b4032b689dd",
        "trusted": true
      },
      "outputs": [],
      "source": [
        "data.head()"
      ]
    },
    {
      "cell_type": "code",
      "execution_count": null,
      "metadata": {
        "colab": {
          "base_uri": "https://localhost:8080/",
          "height": 1000
        },
        "execution": {
          "iopub.execute_input": "2024-05-11T16:27:57.791778Z",
          "iopub.status.busy": "2024-05-11T16:27:57.791239Z",
          "iopub.status.idle": "2024-05-11T16:27:57.801618Z",
          "shell.execute_reply": "2024-05-11T16:27:57.800388Z",
          "shell.execute_reply.started": "2024-05-11T16:27:57.791735Z"
        },
        "id": "I075jnyKsUuD",
        "outputId": "17d183d6-a3ec-4db4-ef0a-a8390fa0398e",
        "trusted": true
      },
      "outputs": [],
      "source": [
        "# Evaluate correlations and drop highly correlated features if necessary\n",
        "correlation_matrix = data.corr()\n",
        "correlation_matrix"
      ]
    },
    {
      "cell_type": "code",
      "execution_count": null,
      "metadata": {
        "colab": {
          "base_uri": "https://localhost:8080/"
        },
        "id": "ptMhcvt6v9mQ",
        "outputId": "b2e99911-3f4a-4dd0-8009-d3960a3f769d"
      },
      "outputs": [],
      "source": [
        "high_corr = correlation_matrix.index[correlation_matrix[\"17. Feeling depressed\"] > 0.5]  # arbitrary threshold\n",
        "high_corr"
      ]
    },
    {
      "cell_type": "code",
      "execution_count": null,
      "metadata": {
        "execution": {
          "iopub.execute_input": "2024-05-11T16:29:01.465046Z",
          "iopub.status.busy": "2024-05-11T16:29:01.463858Z",
          "iopub.status.idle": "2024-05-11T16:29:01.47043Z",
          "shell.execute_reply": "2024-05-11T16:29:01.469445Z",
          "shell.execute_reply.started": "2024-05-11T16:29:01.464995Z"
        },
        "id": "wwrxL03ZsUuF",
        "trusted": true
      },
      "outputs": [],
      "source": []
    },
    {
      "cell_type": "code",
      "execution_count": null,
      "metadata": {
        "execution": {
          "iopub.execute_input": "2024-05-11T16:29:21.719189Z",
          "iopub.status.busy": "2024-05-11T16:29:21.718793Z",
          "iopub.status.idle": "2024-05-11T16:29:21.737486Z",
          "shell.execute_reply": "2024-05-11T16:29:21.736354Z",
          "shell.execute_reply.started": "2024-05-11T16:29:21.71916Z"
        },
        "id": "IM9pe2dYsUuG",
        "trusted": true
      },
      "outputs": [],
      "source": [
        "# Normalize or scale continuous variables\n",
        "scaler = MinMaxScaler()  # or use StandardScaler() for models like SVM\n",
        "continuous_columns = [col for col in data.columns if data[col].dtype in ['float64', 'int64']]\n",
        "data[continuous_columns] = scaler.fit_transform(data[continuous_columns])\n"
      ]
    },
    {
      "cell_type": "code",
      "execution_count": null,
      "metadata": {
        "execution": {
          "iopub.execute_input": "2024-05-11T16:30:25.291462Z",
          "iopub.status.busy": "2024-05-11T16:30:25.291083Z",
          "iopub.status.idle": "2024-05-11T16:30:25.297705Z",
          "shell.execute_reply": "2024-05-11T16:30:25.296504Z",
          "shell.execute_reply.started": "2024-05-11T16:30:25.291435Z"
        },
        "id": "KdZq4aTSsUuH",
        "trusted": true
      },
      "outputs": [],
      "source": [
        "y = data['17. Feeling depressed']\n",
        "X = data.drop('17. Feeling depressed', axis=1)"
      ]
    },
    {
      "cell_type": "code",
      "execution_count": null,
      "metadata": {
        "execution": {
          "iopub.execute_input": "2024-05-11T16:30:26.623008Z",
          "iopub.status.busy": "2024-05-11T16:30:26.622631Z",
          "iopub.status.idle": "2024-05-11T16:30:26.632152Z",
          "shell.execute_reply": "2024-05-11T16:30:26.630993Z",
          "shell.execute_reply.started": "2024-05-11T16:30:26.62298Z"
        },
        "id": "rtAlmOaAsUuI",
        "trusted": true
      },
      "outputs": [],
      "source": [
        "# Split data into training and testing sets\n",
        "X_train, X_test, y_train, y_test = train_test_split(X, y, test_size=0.2, random_state=42)"
      ]
    },
    {
      "cell_type": "markdown",
      "metadata": {
        "id": "nJMEIQWswt9g"
      },
      "source": [
        "# Train Random Forest"
      ]
    },
    {
      "cell_type": "code",
      "execution_count": null,
      "metadata": {
        "id": "mLrGkduzwy0d"
      },
      "outputs": [],
      "source": [
        "import pandas as pd\n",
        "from sklearn.model_selection import train_test_split\n",
        "from sklearn.ensemble import RandomForestClassifier\n",
        "from sklearn.svm import SVC\n",
        "from sklearn.neural_network import MLPClassifier\n",
        "from xgboost import XGBClassifier\n",
        "from sklearn.linear_model import LogisticRegression\n",
        "from sklearn.metrics import accuracy_score, precision_score, recall_score, f1_score, confusion_matrix\n"
      ]
    },
    {
      "cell_type": "code",
      "execution_count": null,
      "metadata": {
        "execution": {
          "iopub.execute_input": "2024-05-11T16:41:14.002076Z",
          "iopub.status.busy": "2024-05-11T16:41:14.001662Z",
          "iopub.status.idle": "2024-05-11T16:41:14.837481Z",
          "shell.execute_reply": "2024-05-11T16:41:14.836381Z",
          "shell.execute_reply.started": "2024-05-11T16:41:14.002045Z"
        },
        "id": "QunConexsUuI",
        "trusted": true
      },
      "outputs": [],
      "source": [
        "# Random Forest\n",
        "rf_model = RandomForestClassifier(n_estimators=100, random_state=42)\n",
        "rf_model.fit(X_train, y_train)\n",
        "y_pred_rf = rf_model.predict(X_test)"
      ]
    },
    {
      "cell_type": "markdown",
      "metadata": {
        "id": "gRUBdDILw4jt"
      },
      "source": [
        "# Train Support Vector Machine (SVM)"
      ]
    },
    {
      "cell_type": "code",
      "execution_count": null,
      "metadata": {
        "execution": {
          "iopub.execute_input": "2024-05-11T16:41:48.706362Z",
          "iopub.status.busy": "2024-05-11T16:41:48.705967Z",
          "iopub.status.idle": "2024-05-11T16:41:48.782765Z",
          "shell.execute_reply": "2024-05-11T16:41:48.781614Z",
          "shell.execute_reply.started": "2024-05-11T16:41:48.706333Z"
        },
        "id": "Mv5La6alsUuM",
        "trusted": true
      },
      "outputs": [],
      "source": [
        "# Support Vector Machine (SVM)\n",
        "svm_model = SVC(kernel='linear')\n",
        "svm_model.fit(X_train, y_train)\n",
        "y_pred_svm = svm_model.predict(X_test)"
      ]
    },
    {
      "cell_type": "markdown",
      "metadata": {
        "id": "9600SDa2w-2W"
      },
      "source": [
        "# Train Neural Network"
      ]
    },
    {
      "cell_type": "code",
      "execution_count": null,
      "metadata": {
        "colab": {
          "base_uri": "https://localhost:8080/"
        },
        "execution": {
          "iopub.execute_input": "2024-05-11T16:42:25.294041Z",
          "iopub.status.busy": "2024-05-11T16:42:25.293611Z",
          "iopub.status.idle": "2024-05-11T16:42:29.047697Z",
          "shell.execute_reply": "2024-05-11T16:42:29.046136Z",
          "shell.execute_reply.started": "2024-05-11T16:42:25.294004Z"
        },
        "id": "hCii5JfCsUuM",
        "outputId": "bd9844d4-f6e5-4392-a4f5-2a61e4181d10",
        "trusted": true
      },
      "outputs": [],
      "source": [
        "# Neural Network\n",
        "nn_model = MLPClassifier(hidden_layer_sizes=(100,), activation='relu', solver='adam', max_iter=300)\n",
        "nn_model.fit(X_train, y_train)\n",
        "y_pred_nn = nn_model.predict(X_test)\n",
        "\n"
      ]
    },
    {
      "cell_type": "markdown",
      "metadata": {
        "id": "EIHm3AAExiwT"
      },
      "source": [
        "# Train XGBoost"
      ]
    },
    {
      "cell_type": "code",
      "execution_count": null,
      "metadata": {
        "execution": {
          "iopub.execute_input": "2024-05-11T16:42:39.634181Z",
          "iopub.status.busy": "2024-05-11T16:42:39.633773Z",
          "iopub.status.idle": "2024-05-11T16:42:39.813347Z",
          "shell.execute_reply": "2024-05-11T16:42:39.81244Z",
          "shell.execute_reply.started": "2024-05-11T16:42:39.63415Z"
        },
        "id": "KYN7LnDlsUuN",
        "trusted": true
      },
      "outputs": [],
      "source": [
        "xgb_model = XGBClassifier(use_label_encoder=False, eval_metric='logloss')\n",
        "\n",
        "xgb_model.fit(X_train, y_train)\n",
        "y_pred_xgb = xgb_model.predict(X_test)\n",
        "\n"
      ]
    },
    {
      "cell_type": "markdown",
      "metadata": {
        "id": "7GWQ4IhqxoKY"
      },
      "source": [
        "# Train Logistic Regression"
      ]
    },
    {
      "cell_type": "code",
      "execution_count": null,
      "metadata": {
        "execution": {
          "iopub.execute_input": "2024-05-11T16:42:51.664655Z",
          "iopub.status.busy": "2024-05-11T16:42:51.664256Z",
          "iopub.status.idle": "2024-05-11T16:42:51.714305Z",
          "shell.execute_reply": "2024-05-11T16:42:51.712779Z",
          "shell.execute_reply.started": "2024-05-11T16:42:51.664626Z"
        },
        "id": "c6THtAoVsUuO",
        "trusted": true
      },
      "outputs": [],
      "source": [
        "# Logistic Regression\n",
        "lr_model = LogisticRegression()\n",
        "lr_model.fit(X_train, y_train)\n",
        "y_pred_lr = lr_model.predict(X_test)"
      ]
    },
    {
      "cell_type": "markdown",
      "metadata": {
        "id": "_TItvkKuxtUt"
      },
      "source": [
        "# Evaluation function to print the metrics"
      ]
    },
    {
      "cell_type": "code",
      "execution_count": null,
      "metadata": {
        "colab": {
          "base_uri": "https://localhost:8080/"
        },
        "execution": {
          "iopub.execute_input": "2024-05-11T16:42:57.300804Z",
          "iopub.status.busy": "2024-05-11T16:42:57.300383Z",
          "iopub.status.idle": "2024-05-11T16:42:57.351776Z",
          "shell.execute_reply": "2024-05-11T16:42:57.350107Z",
          "shell.execute_reply.started": "2024-05-11T16:42:57.300772Z"
        },
        "id": "32tan7lmsUuP",
        "outputId": "1009f451-9a4f-4643-af76-4d614df7c8d4",
        "trusted": true
      },
      "outputs": [],
      "source": [
        "# Evaluation function to print the metrics\n",
        "def evaluate_model(y_test, y_pred, model_name):\n",
        "    accuracy = accuracy_score(y_test, y_pred)\n",
        "    precision = precision_score(y_test, y_pred, average='macro', zero_division=0)\n",
        "    recall = recall_score(y_test, y_pred, average='macro', zero_division=0)\n",
        "    f1 = f1_score(y_test, y_pred, average='macro', zero_division=0)\n",
        "\n",
        "    print(f\"Model: {model_name}\")\n",
        "    print(confusion_matrix(y_test, y_pred))\n",
        "    print(f\"{model_name} Performance:\")\n",
        "    print(f\"Accuracy: {accuracy:.4f}\")\n",
        "    print(f\"Precision: {precision:.4f}\")\n",
        "    print(f\"Recall: {recall:.4f}\")\n",
        "    print(f\"F1-Score: {f1:.4f}\\n\")\n",
        "\n",
        "\n",
        "# Evaluating all models\n",
        "evaluate_model(y_test, y_pred_rf, 'Random Forest')\n",
        "evaluate_model(y_test, y_pred_svm, 'SVM')\n",
        "evaluate_model(y_test, y_pred_nn, 'Neural Network')\n",
        "evaluate_model(y_test, y_pred_xgb, 'XGBoost')\n",
        "evaluate_model(y_test, y_pred_lr, 'Logistic Regression')\n"
      ]
    },
    {
      "cell_type": "markdown",
      "metadata": {
        "id": "u_JDIoEysUuP"
      },
      "source": [
        "# SHapley Additive exPlanations (SHAP)\n",
        "\n",
        "Uses game theory to explain the output of any machine learning model by computing the contribution of each feature to a prediction."
      ]
    },
    {
      "cell_type": "code",
      "execution_count": null,
      "metadata": {
        "colab": {
          "base_uri": "https://localhost:8080/"
        },
        "id": "F_tfAU5Wy3a3",
        "outputId": "32ac866f-1bd0-4e31-ec26-32f152bd67e3"
      },
      "outputs": [],
      "source": [
        "!pip install shap"
      ]
    },
    {
      "cell_type": "code",
      "execution_count": null,
      "metadata": {
        "id": "7s5GgNDBy1Mp"
      },
      "outputs": [],
      "source": [
        "import xgboost as xgb\n",
        "import shap\n",
        "import matplotlib.pyplot as plt"
      ]
    },
    {
      "cell_type": "markdown",
      "metadata": {
        "id": "g4gazgkX5pcd"
      },
      "source": [
        "# Understanding the SHAP Force Plot\n",
        "\n",
        "\n",
        "The SHAP (SHapley Additive exPlanations) force_plot is an effective visualization tool for understanding the impact of each feature on a model's prediction for a single observation. It illustrates how each feature contributes, either positively or negatively, to the final prediction relative to the average prediction (baseline).\n",
        "\n",
        "\n",
        "\n",
        " Here’s a breakdown of the key components of a SHAP force plot:\n",
        "\n",
        "- Base Value: This is the average prediction for the dataset, provided by the model over the training data. In classification, this would be the log odds of the baseline class, while in regression, it's the average outcome.\n",
        "\n",
        "- Output Value: This is the actual prediction for the specific instance being explained. It is displayed at the end of the force plot.\n",
        "\n",
        "- Features: Each feature that affects the prediction is shown as a force. Each force can either:\n",
        "\n",
        "- Push to the right (positive effect): These are features that push the model’s prediction higher than the base value. They are usually shown in red.\n",
        "\n",
        "- Push to the left (negative effect): These are features that push the model’s prediction lower than the base value. They are usually shown in blue.\n",
        "\n",
        "-  Size of the Force: The size or length of each force represents the magnitude of that feature’s impact on the prediction. Larger forces have a more significant impact."
      ]
    },
    {
      "cell_type": "code",
      "execution_count": null,
      "metadata": {
        "colab": {
          "base_uri": "https://localhost:8080/",
          "height": 193
        },
        "execution": {
          "iopub.execute_input": "2024-05-11T16:54:00.752364Z",
          "iopub.status.busy": "2024-05-11T16:54:00.751763Z",
          "iopub.status.idle": "2024-05-11T16:54:01.360922Z",
          "shell.execute_reply": "2024-05-11T16:54:01.35992Z",
          "shell.execute_reply.started": "2024-05-11T16:54:00.752332Z"
        },
        "id": "7gMC1RY3sUuS",
        "outputId": "6ad781de-4d3e-4d42-bc0d-2b0b111735db",
        "trusted": true
      },
      "outputs": [],
      "source": [
        "# Train the model\n",
        "xgb_model = XGBClassifier(random_state=42)\n",
        "xgb_model.fit(X_train, y_train)\n",
        "\n",
        "shap.initjs()\n",
        "# Create the SHAP explainer and calculate SHAP values\n",
        "explainer_xgb = shap.TreeExplainer(xgb_model)\n",
        "shap_values_xgb = explainer_xgb.shap_values(X_train)\n",
        "\n",
        "# Visualize the first prediction's explanation\n",
        "shap.force_plot(explainer_xgb.expected_value, shap_values_xgb[0,:], X_train.iloc[0,:])\n"
      ]
    },
    {
      "cell_type": "markdown",
      "metadata": {
        "id": "zg63m5JH7V7B"
      },
      "source": [
        "Tips for Interpreting Force Plots\n",
        "Look for Dominant Features: Identify which features have the longest bars (either red or blue). These are the features most influential for this particular prediction.\n",
        "\n",
        "Understand Thresholds: In classification tasks, consider where the final output value lies relative to a decision threshold. This can inform how features collectively move the prediction across this threshold.\n",
        "\n",
        "Compare Instances: By looking at multiple force plots for different instances, you can see how feature contributions vary across the dataset, which might indicate patterns or inconsistencies in model behavior."
      ]
    },
    {
      "cell_type": "markdown",
      "metadata": {
        "id": "kMwXtIGw0bZh"
      },
      "source": [
        "# Explanation:\n",
        "- The bar plot shows the average impact of each feature on the model output magnitude,\n",
        "- sorted by the importance of the features.\n",
        "- The beeswarm plot provides a deeper insight into the positive and negative relationships of the features\n",
        "- with the target variable, along with the distribution of the SHAP values for each feature across all data points."
      ]
    },
    {
      "cell_type": "code",
      "execution_count": null,
      "metadata": {
        "colab": {
          "base_uri": "https://localhost:8080/",
          "height": 1000
        },
        "execution": {
          "iopub.execute_input": "2024-05-11T17:04:47.440979Z",
          "iopub.status.busy": "2024-05-11T17:04:47.440522Z",
          "iopub.status.idle": "2024-05-11T17:04:49.469911Z",
          "shell.execute_reply": "2024-05-11T17:04:49.468372Z",
          "shell.execute_reply.started": "2024-05-11T17:04:47.440944Z"
        },
        "id": "aROLTIWgsUuT",
        "outputId": "2a1b18d1-b203-41be-95ab-15d54477216a",
        "trusted": true
      },
      "outputs": [],
      "source": [
        "# Assuming X_train and y_train are already defined and preprocessed\n",
        "# Train the XGBoost model\n",
        "xgb_model = xgb.XGBClassifier(random_state=42, verbosity=1, eval_metric='logloss')\n",
        "xgb_model.fit(X_train, y_train)\n",
        "\n",
        "# Create the SHAP explainer\n",
        "explainer = shap.TreeExplainer(xgb_model)\n",
        "shap_values = explainer.shap_values(X_train)\n",
        "\n",
        "# Generate SHAP summary plot\n",
        "shap.summary_plot(shap_values, X_train, plot_type=\"bar\")\n",
        "\n",
        "# You can also create a detailed SHAP summary plot (beeswarm plot) to see the distribution\n",
        "shap.summary_plot(shap_values, X_train, plot_type='dot')\n",
        "\n",
        "\n"
      ]
    },
    {
      "cell_type": "markdown",
      "metadata": {
        "id": "MIgSgTy_sUuT"
      },
      "source": [
        "## Examine how changes in a feature change the model’s prediction"
      ]
    },
    {
      "cell_type": "code",
      "execution_count": null,
      "metadata": {
        "colab": {
          "base_uri": "https://localhost:8080/",
          "height": 476
        },
        "execution": {
          "iopub.execute_input": "2024-05-11T17:20:17.072544Z",
          "iopub.status.busy": "2024-05-11T17:20:17.072121Z",
          "iopub.status.idle": "2024-05-11T17:20:17.93577Z",
          "shell.execute_reply": "2024-05-11T17:20:17.934665Z",
          "shell.execute_reply.started": "2024-05-11T17:20:17.072512Z"
        },
        "id": "8Ii4x9c3sUuU",
        "outputId": "fb271573-1c55-460b-ba3a-f1bc269c3c6a",
        "trusted": true
      },
      "outputs": [],
      "source": [
        "import xgboost as xgb\n",
        "import shap\n",
        "import matplotlib.pyplot as plt\n",
        "\n",
        "# Assuming the XGBoost model and data are already defined and loaded: xgb_model, X_train\n",
        "\n",
        "# Create the SHAP explainer and calculate SHAP values\n",
        "explainer = shap.TreeExplainer(xgb_model)\n",
        "shap_values = explainer.shap_values(X_train)\n",
        "\n",
        "# Plot the SHAP dependence plot for a specific feature\n",
        "# The following example assumes 'feature_name' is the name of the feature you're interested in\n",
        "feature_name = '3. Education level=?'  # Replace 'example_feature_name' with your actual feature of interest\n",
        "\n",
        "# Select a feature for coloring to show interactions; if not sure, let SHAP choose one\n",
        "interaction_index = 'auto'  # Set to 'auto' or specify another feature name\n",
        "\n",
        "shap.dependence_plot(ind=feature_name, shap_values=shap_values, features=X_train, interaction_index=interaction_index)\n",
        "\n",
        "# Explanation:\n",
        "# Each point on the plot represents a single datapoint in the dataset.\n",
        "# The x-axis shows the value of the feature, and the y-axis shows the SHAP value for that feature.\n",
        "# The color represents the value of the interacting feature, providing insight into how two features interact to impact the model output.\n"
      ]
    },
    {
      "cell_type": "markdown",
      "metadata": {
        "id": "HEzKiX0MsUuV"
      },
      "source": [
        "# Local Interpretable Model-agnostic Explanations (LIME)\n",
        "\n",
        "Explains individual predictions by approximating the local decision boundary with an interpretable model (like linear models)."
      ]
    },
    {
      "cell_type": "code",
      "execution_count": null,
      "metadata": {
        "colab": {
          "base_uri": "https://localhost:8080/"
        },
        "id": "8Eq74bkYzypO",
        "outputId": "0c9b2923-4c27-4e31-84a3-381d7093fd40"
      },
      "outputs": [],
      "source": [
        "!pip install lime"
      ]
    },
    {
      "cell_type": "markdown",
      "metadata": {
        "id": "9PioaEUz7jKt"
      },
      "source": [
        "## Understanding LIME Plot Components\n",
        "- Prediction: The overall prediction of the classifier for the specific instance being explained. This is usually shown at the top of the plot.\n",
        "\n",
        "- Local Model: LIME creates a simple model (like a linear model) that approximates the behavior of the complex model near the instance being explained. This local model is used to interpret the result.\n",
        "\n",
        "Feature Contributions:\n",
        "\n",
        "- Positive Contributions (Green Bars): Features that push the model’s prediction in the positive direction (towards the predicted class). The length of the bar indicates the strength of the contribution.\n",
        "- Negative Contributions (Red Bars): Features that push the model’s prediction in the negative direction (away from the predicted class). Again, the length of the bar reflects the magnitude of the impact.\n",
        "- Base Line/Intercept: This is the starting point of the prediction, assuming no features are contributing. It's akin to a baseline from which the contributions of all features are measured."
      ]
    },
    {
      "cell_type": "code",
      "execution_count": null,
      "metadata": {
        "colab": {
          "base_uri": "https://localhost:8080/",
          "height": 567
        },
        "execution": {
          "iopub.execute_input": "2024-05-11T17:22:01.092839Z",
          "iopub.status.busy": "2024-05-11T17:22:01.092443Z",
          "iopub.status.idle": "2024-05-11T17:22:01.322378Z",
          "shell.execute_reply": "2024-05-11T17:22:01.320636Z",
          "shell.execute_reply.started": "2024-05-11T17:22:01.09281Z"
        },
        "id": "0mdfR1josUuV",
        "outputId": "02a3fdc7-3900-484b-89c0-816eafa108c0",
        "trusted": true
      },
      "outputs": [],
      "source": [
        "import xgboost as xgb\n",
        "from lime import lime_tabular\n",
        "import numpy as np\n",
        "\n",
        "# Assume X_train, y_train are already defined and the XGBoost model is trained:\n",
        "# xgb_model = xgb.XGBClassifier(...)\n",
        "# xgb_model.fit(X_train, y_train)\n",
        "\n",
        "# Create a LIME explainer object\n",
        "explainer = lime_tabular.LimeTabularExplainer(\n",
        "    training_data=np.array(X_train),\n",
        "    feature_names=X_train.columns,\n",
        "    class_names=['Negative', 'Positive'],  # Adjust based on your target classes\n",
        "    mode='classification'\n",
        ")\n",
        "\n",
        "# Select the instance to explain\n",
        "i = 2  # Index of the instance in the test set\n",
        "instance = X_train.iloc[i]\n",
        "\n",
        "# Generate explanations\n",
        "exp = explainer.explain_instance(\n",
        "    data_row=instance,\n",
        "    predict_fn=xgb_model.predict_proba\n",
        ")\n",
        "\n",
        "# Visualize the explanation\n",
        "exp.show_in_notebook(show_table=True, show_all=False)\n",
        "\n",
        "# Explanation:\n",
        "# This will generate an HTML output showing the contribution of each feature to the prediction of the selected instance.\n"
      ]
    },
    {
      "cell_type": "markdown",
      "metadata": {
        "id": "9dqJCrRa7rG1"
      },
      "source": [
        "Tips for Interpreting LIME Plots\n",
        "\n",
        "- Consistency Check: Verify that the prediction shown in the LIME plot matches what your complex model outputs for the same instance. Inconsistencies might suggest that the local approximation isn't well fitted.\n",
        "\n",
        "- Feature Values: Alongside the contribution bars, the feature values of the instance being explained are often displayed. This helps to contextualize why certain features are impacting the prediction in a specific way.\n",
        "\n",
        "- Model Simplicity: The local model should be simple enough to understand but complex enough to accurately approximate the complex model near the instance. If the local model is too simple, it may not provide a faithful explanation.\n",
        "\n",
        "- Exploring Multiple Instances: LIME explanations can vary significantly across different instances. To get a fuller understanding of the model’s behavior, generate and compare explanations for multiple different instances, especially those where the model performs poorly or unexpectedly."
      ]
    },
    {
      "cell_type": "code",
      "execution_count": null,
      "metadata": {
        "id": "aKJ2dkgesUuW"
      },
      "outputs": [],
      "source": []
    }
  ],
  "metadata": {
    "colab": {
      "provenance": []
    },
    "kaggle": {
      "accelerator": "none",
      "dataSources": [
        {
          "datasetId": 4987095,
          "sourceId": 8385200,
          "sourceType": "datasetVersion"
        }
      ],
      "dockerImageVersionId": 30698,
      "isGpuEnabled": false,
      "isInternetEnabled": true,
      "language": "python",
      "sourceType": "notebook"
    },
    "kernelspec": {
      "display_name": "Python 3",
      "language": "python",
      "name": "python3"
    },
    "language_info": {
      "codemirror_mode": {
        "name": "ipython",
        "version": 3
      },
      "file_extension": ".py",
      "mimetype": "text/x-python",
      "name": "python",
      "nbconvert_exporter": "python",
      "pygments_lexer": "ipython3",
      "version": "3.10.13"
    }
  },
  "nbformat": 4,
  "nbformat_minor": 0
}
