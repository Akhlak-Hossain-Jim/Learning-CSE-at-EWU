{
 "cells": [
  {
   "cell_type": "markdown",
   "metadata": {
    "id": "b1KvWbt5sKjW"
   },
   "source": [
    "# Part 1: Simple Linear Regression"
   ]
  },
  {
   "cell_type": "markdown",
   "metadata": {
    "id": "Woj-3na_sNT1"
   },
   "source": [
    "## Understanding Simple Linear Regression\n",
    "First, we'll perform a simple linear regression using statsmodels. We'll use a synthetic dataset for illustration."
   ]
  },
  {
   "cell_type": "code",
   "execution_count": null,
   "metadata": {
    "id": "sk56NwJbpv4c"
   },
   "outputs": [],
   "source": [
    "import numpy as np\n",
    "import statsmodels.api as sm\n",
    "import matplotlib.pyplot as plt\n",
    "import seaborn as sns\n",
    "import pandas as pd\n",
    "\n",
    "# Generate synthetic data\n",
    "np.random.seed(0)\n",
    "X = np.random.rand(100, 1) * 10  # Independent variable\n",
    "y = 2 * X.squeeze() + 1 + np.random.randn(100) * 2  # Dependent variable with some noise\n",
    "\n",
    "# Adding constant for intercept in model\n",
    "X_sm = sm.add_constant(X)\n",
    "\n",
    "# Fit model\n",
    "model = sm.OLS(y, X_sm).fit()\n"
   ]
  },
  {
   "cell_type": "code",
   "execution_count": null,
   "metadata": {
    "colab": {
     "base_uri": "https://localhost:8080/"
    },
    "executionInfo": {
     "elapsed": 3,
     "status": "ok",
     "timestamp": 1715071126362,
     "user": {
      "displayName": "Mohammad Rifat Ahmmad Rashid",
      "userId": "17207620860184690696"
     },
     "user_tz": -360
    },
    "id": "_iZfzqQmsTwf",
    "outputId": "ce5757eb-37cb-43cf-a514-f94023a71afc"
   },
   "outputs": [],
   "source": [
    "# Print model summary\n",
    "print(model.summary())\n"
   ]
  },
  {
   "cell_type": "code",
   "execution_count": null,
   "metadata": {
    "colab": {
     "base_uri": "https://localhost:8080/",
     "height": 529
    },
    "executionInfo": {
     "elapsed": 917,
     "status": "ok",
     "timestamp": 1715071127278,
     "user": {
      "displayName": "Mohammad Rifat Ahmmad Rashid",
      "userId": "17207620860184690696"
     },
     "user_tz": -360
    },
    "id": "8MoHIHHqsUy9",
    "outputId": "03566100-39fe-4e12-da54-6dae42bf90e1"
   },
   "outputs": [],
   "source": [
    "# Plotting\n",
    "plt.figure(figsize=(10, 6))\n",
    "sns.scatterplot(x=X.squeeze(), y=y, label='Data Points')\n",
    "sns.lineplot(x=X.squeeze(), y=model.predict(X_sm), color='red', label='Regression Line')\n",
    "plt.xlabel('Independent Variable')\n",
    "plt.ylabel('Dependent Variable')\n",
    "plt.title('Simple Linear Regression')\n",
    "plt.legend()\n",
    "plt.show()"
   ]
  },
  {
   "cell_type": "code",
   "execution_count": null,
   "metadata": {
    "colab": {
     "base_uri": "https://localhost:8080/"
    },
    "executionInfo": {
     "elapsed": 673,
     "status": "ok",
     "timestamp": 1715071127947,
     "user": {
      "displayName": "Mohammad Rifat Ahmmad Rashid",
      "userId": "17207620860184690696"
     },
     "user_tz": -360
    },
    "id": "RCkvi_2tHQnG",
    "outputId": "cf1facb0-0508-4ea6-c00b-f7ca8cad611e"
   },
   "outputs": [],
   "source": [
    "!gdown --id 1C5Z4X6T-6j-OIUyifd0WEal_kSTLheGF"
   ]
  },
  {
   "cell_type": "code",
   "execution_count": null,
   "metadata": {
    "id": "QrbP_6gTHWCd"
   },
   "outputs": [],
   "source": [
    "df = pd.read_csv('/content/USA_Housing.csv')"
   ]
  },
  {
   "cell_type": "code",
   "execution_count": null,
   "metadata": {
    "colab": {
     "base_uri": "https://localhost:8080/",
     "height": 414
    },
    "executionInfo": {
     "elapsed": 6,
     "status": "ok",
     "timestamp": 1715071127948,
     "user": {
      "displayName": "Mohammad Rifat Ahmmad Rashid",
      "userId": "17207620860184690696"
     },
     "user_tz": -360
    },
    "id": "xdDid9_kHjCN",
    "outputId": "2407c2e9-96d5-4c69-b70a-c9751cd003a2"
   },
   "outputs": [],
   "source": [
    "df.head()"
   ]
  },
  {
   "cell_type": "code",
   "execution_count": null,
   "metadata": {
    "id": "tNl1vEGqHquc"
   },
   "outputs": [],
   "source": [
    "df = df.drop('Address', axis = 1)"
   ]
  },
  {
   "cell_type": "code",
   "execution_count": null,
   "metadata": {
    "colab": {
     "base_uri": "https://localhost:8080/",
     "height": 376
    },
    "executionInfo": {
     "elapsed": 429,
     "status": "ok",
     "timestamp": 1715071128372,
     "user": {
      "displayName": "Mohammad Rifat Ahmmad Rashid",
      "userId": "17207620860184690696"
     },
     "user_tz": -360
    },
    "id": "jA1rDztOH-sF",
    "outputId": "851fa91d-0834-4c01-833d-b021cf963a26"
   },
   "outputs": [],
   "source": [
    "df.corr()"
   ]
  },
  {
   "cell_type": "code",
   "execution_count": null,
   "metadata": {
    "id": "un2kEc9RIf_d"
   },
   "outputs": [],
   "source": [
    "import statsmodels.api as sm\n",
    "\n",
    "y = df['Price'].values\n",
    "X = df['Avg. Area Income'].values\n",
    "\n",
    "X_sm = sm.add_constant(X)\n",
    "\n",
    "# Fit model\n",
    "model = sm.OLS(y, X_sm).fit()"
   ]
  },
  {
   "cell_type": "code",
   "execution_count": null,
   "metadata": {
    "colab": {
     "base_uri": "https://localhost:8080/"
    },
    "executionInfo": {
     "elapsed": 10,
     "status": "ok",
     "timestamp": 1715071128373,
     "user": {
      "displayName": "Mohammad Rifat Ahmmad Rashid",
      "userId": "17207620860184690696"
     },
     "user_tz": -360
    },
    "id": "PK73QS9HIzWe",
    "outputId": "5b39e9e7-dae4-4ab1-cefe-39c8a1cf2708"
   },
   "outputs": [],
   "source": [
    "print(model.summary())"
   ]
  },
  {
   "cell_type": "code",
   "execution_count": null,
   "metadata": {
    "colab": {
     "base_uri": "https://localhost:8080/",
     "height": 526
    },
    "executionInfo": {
     "elapsed": 1357,
     "status": "ok",
     "timestamp": 1715071129723,
     "user": {
      "displayName": "Mohammad Rifat Ahmmad Rashid",
      "userId": "17207620860184690696"
     },
     "user_tz": -360
    },
    "id": "O9hYvLO1KB8F",
    "outputId": "6cde7e2e-34b0-442a-d3e8-f6e2e9784831"
   },
   "outputs": [],
   "source": [
    "# Plotting\n",
    "plt.figure(figsize=(10, 6))\n",
    "sns.scatterplot(x=X, y=y, label='Data Points')\n",
    "sns.lineplot(x=X, y=model.predict(X_sm), color='red', label='Regression Line')\n",
    "plt.xlabel('Independent Variable')\n",
    "plt.ylabel('Dependent Variable')\n",
    "plt.title('Simple Linear Regression')\n",
    "plt.legend()\n",
    "plt.show()"
   ]
  },
  {
   "cell_type": "markdown",
   "metadata": {
    "id": "_HhzHeMzshIp"
   },
   "source": [
    "## Evaluating Model Fit\n",
    "The R-squared value is provided in the model summary from statsmodels. Additionally, we can generate residual plots:\n"
   ]
  },
  {
   "cell_type": "code",
   "execution_count": null,
   "metadata": {
    "id": "lFDCLAHnsqCD"
   },
   "outputs": [],
   "source": [
    "residuals = model.resid"
   ]
  },
  {
   "cell_type": "code",
   "execution_count": null,
   "metadata": {
    "colab": {
     "base_uri": "https://localhost:8080/",
     "height": 514
    },
    "executionInfo": {
     "elapsed": 1197,
     "status": "ok",
     "timestamp": 1715071130911,
     "user": {
      "displayName": "Mohammad Rifat Ahmmad Rashid",
      "userId": "17207620860184690696"
     },
     "user_tz": -360
    },
    "id": "iYx4a_SasZeI",
    "outputId": "11a47ffb-6402-4ba4-d5f3-8a907cff9c44"
   },
   "outputs": [],
   "source": [
    "# Residual Plot\n",
    "plt.figure(figsize=(10, 6))\n",
    "sns.scatterplot(x=model.predict(X_sm), y=residuals)\n",
    "plt.axhline(y=0, color='red', linestyle='--')\n",
    "plt.xlabel('Fitted values')\n",
    "plt.ylabel('Residuals')\n",
    "plt.title('Residual Plot')\n",
    "plt.show()\n"
   ]
  },
  {
   "cell_type": "markdown",
   "metadata": {
    "id": "byKq2sV3v1Jx"
   },
   "source": [
    "# Part 2: Multiple Linear Regression"
   ]
  },
  {
   "cell_type": "markdown",
   "metadata": {
    "id": "UL_7ZOPwv4Lv"
   },
   "source": [
    "## Introduction to Multiple Linear Regression\n",
    "Let's extend to multiple linear regression with a synthetic dataset."
   ]
  },
  {
   "cell_type": "code",
   "execution_count": null,
   "metadata": {
    "colab": {
     "base_uri": "https://localhost:8080/"
    },
    "executionInfo": {
     "elapsed": 16,
     "status": "ok",
     "timestamp": 1715071130912,
     "user": {
      "displayName": "Mohammad Rifat Ahmmad Rashid",
      "userId": "17207620860184690696"
     },
     "user_tz": -360
    },
    "id": "61NsyoF3sofT",
    "outputId": "7f3dca21-eb7b-4968-a67e-91c940043017"
   },
   "outputs": [],
   "source": [
    "X2 = df[['Avg. Area Income','Avg. Area House Age']].values\n",
    "X_multi_sm = sm.add_constant(X2)\n",
    "\n",
    "# Fit model\n",
    "model_multi = sm.OLS(y, X_multi_sm).fit()\n",
    "print(model_multi.summary())"
   ]
  },
  {
   "cell_type": "markdown",
   "metadata": {
    "id": "Hz8t9fERv-Dg"
   },
   "source": [
    "## Diagnosing Multicollinearity\n",
    "We calculate the Variance Inflation Factor (VIF) for each independent variable."
   ]
  },
  {
   "cell_type": "code",
   "execution_count": null,
   "metadata": {
    "colab": {
     "base_uri": "https://localhost:8080/"
    },
    "executionInfo": {
     "elapsed": 456,
     "status": "ok",
     "timestamp": 1715071372285,
     "user": {
      "displayName": "Mohammad Rifat Ahmmad Rashid",
      "userId": "17207620860184690696"
     },
     "user_tz": -360
    },
    "id": "cWZ-snHlv7Iw",
    "outputId": "63df2854-49d0-446a-a8e2-3212038a80bf"
   },
   "outputs": [],
   "source": [
    "from statsmodels.stats.outliers_influence import variance_inflation_factor\n",
    "\n",
    "vif = [variance_inflation_factor(X_multi_sm, i) for i in range(X_multi_sm.shape[1])]\n",
    "print(\"VIF for each variable:\", vif)\n"
   ]
  },
  {
   "cell_type": "markdown",
   "metadata": {
    "id": "kDGk1o4nwGQU"
   },
   "source": [
    "# Part 3: Model Validation and Assumption Testing"
   ]
  },
  {
   "cell_type": "markdown",
   "metadata": {
    "id": "K3hh37bSwJk0"
   },
   "source": [
    "## Cross-Validation\n",
    "We use scikit-learn for k-fold cross-validation."
   ]
  },
  {
   "cell_type": "code",
   "execution_count": null,
   "metadata": {
    "id": "5hm0U15GwAiu"
   },
   "outputs": [],
   "source": [
    "from sklearn.model_selection import cross_val_score\n",
    "from sklearn.linear_model import LinearRegression\n",
    "\n",
    "# Convert to scikit-learn's format\n",
    "model_sk = LinearRegression()\n",
    "scores = cross_val_score(model_sk, X_multi, y, cv=5)\n",
    "print(\"Cross-validation scores:\", scores)\n"
   ]
  },
  {
   "cell_type": "markdown",
   "metadata": {
    "id": "KUHb5KLewPWq"
   },
   "source": [
    "## Checking Regression Assumptions\n",
    "We visually inspect assumptions using plots for the multiple linear regression model:"
   ]
  },
  {
   "cell_type": "code",
   "execution_count": null,
   "metadata": {
    "id": "6cwyL0ULwL9F"
   },
   "outputs": [],
   "source": [
    "# Linearity and Homoscedasticity via Residuals vs. Fitted plot\n",
    "# Normality of Residuals via Q-Q plot\n",
    "# Independence is assumed in time series via Durbin-Watson statistic in summary\n",
    "\n",
    "# Fitting model using scikit-learn for simplicity in plotting\n",
    "model_sk.fit(X_multi, y)\n",
    "fitted_values = model_sk.predict(X_multi)\n",
    "residuals = y - fitted_values\n"
   ]
  },
  {
   "cell_type": "code",
   "execution_count": null,
   "metadata": {
    "id": "ayi8EB_rwNxg"
   },
   "outputs": [],
   "source": [
    "# Q-Q plot for normality\n",
    "fig, ax = plt.subplots(figsize=(6, 4))\n",
    "sm.qqplot(residuals, line='s', ax=ax)\n",
    "plt.title('Q-Q plot')\n"
   ]
  },
  {
   "cell_type": "code",
   "execution_count": null,
   "metadata": {
    "id": "OzyoqQ3SwVl4"
   },
   "outputs": [],
   "source": [
    "# Residuals vs Fitted for homoscedasticity\n",
    "plt.figure(figsize=(10, 6))\n",
    "sns.scatterplot(x=fitted_values, y=residuals)\n",
    "plt.axhline(y=0, color='red', linestyle='--')\n",
    "plt.xlabel('Fitted values')\n",
    "plt.ylabel('Residuals')\n",
    "plt.title('Residuals vs. Fitted')\n",
    "plt.show()"
   ]
  },
  {
   "cell_type": "markdown",
   "metadata": {
    "id": "uMZ0vg5SwhbL"
   },
   "source": [
    "# Part 4: Simple Linear Regression and Hypothesis Testing"
   ]
  },
  {
   "cell_type": "markdown",
   "metadata": {
    "id": "3BtOH7gPw6QC"
   },
   "source": [
    "In linear regression, hypothesis testing is commonly used to determine if there is a statistically significant relationship between the independent variable(s) and the dependent variable. Specifically, we test hypotheses about the regression coefficients (β) obtained in the model. Here's how it's generally structured:\n",
    "\n",
    "Null Hypothesis (H0): There is no relationship between the independent and dependent variables. In mathematical terms, this means the coefficient (β) equals 0 (β=0).\n",
    "\n",
    "Alternative Hypothesis (H1): There is a relationship between the independent and dependent variables, implying the coefficient (β) is not equal to 0 (β=0)."
   ]
  },
  {
   "cell_type": "markdown",
   "metadata": {
    "id": "C2t0vzaRxNkG"
   },
   "source": [
    "Let's use a simple linear regression model as an example to illustrate hypothesis testing. We'll generate synthetic data, fit a linear regression model using statsmodels, and then interpret the hypothesis test results for the regression coefficient."
   ]
  },
  {
   "cell_type": "code",
   "execution_count": null,
   "metadata": {
    "id": "hvXV51EuwWST"
   },
   "outputs": [],
   "source": [
    "import numpy as np\n",
    "import statsmodels.api as sm\n",
    "import matplotlib.pyplot as plt\n",
    "\n",
    "# Generate synthetic data\n",
    "np.random.seed(42)\n",
    "X = np.random.rand(100, 1) * 10  # Independent variable\n",
    "y = 2.5 * X.squeeze() + np.random.randn(100) * 2  # Dependent variable with some noise\n",
    "\n",
    "# Add constant for intercept\n",
    "X_sm = sm.add_constant(X)\n",
    "\n",
    "# Fit model\n",
    "model = sm.OLS(y, X_sm).fit()\n",
    "\n",
    "# Display model summary\n",
    "print(model.summary())\n",
    "\n",
    "# Plot regression line and data points\n",
    "plt.figure(figsize=(8, 6))\n",
    "plt.scatter(X, y, alpha=0.7, label='Data Points')\n",
    "plt.plot(X, model.predict(X_sm), 'r', label='Regression Line')\n",
    "plt.xlabel('Independent Variable')\n",
    "plt.ylabel('Dependent Variable')\n",
    "plt.legend()\n",
    "plt.show()\n"
   ]
  },
  {
   "cell_type": "markdown",
   "metadata": {
    "id": "SFPSmmRYxUvX"
   },
   "source": [
    "### Interpreting Hypothesis Test Results for Coefficients\n",
    "In the model summary output by statsmodels, you'll find a section for each coefficient (β) including:\n",
    "\n",
    "* Coefficient value: Estimate of β.\n",
    "* Std Err: Standard error of the coefficient estimate.\n",
    "* t: t-statistic for the hypothesis test.\n",
    "* P>|t|: p-value associated with the hypothesis test.\n",
    "\n",
    "How to Interpret:\n",
    "* P-value < 0.05: Typically, if the p-value is less than 0.05, we reject the null hypothesis (H0) in favor of the alternative hypothesis (H1), indicating a statistically significant relationship between the independent variable and the dependent variable at the 5% significance level.\n",
    "\n",
    "* P-value ≥ 0.05: If the p-value is greater than or equal to 0.05, we do not reject the null hypothesis, suggesting that the evidence is not strong enough to conclude there is a statistically significant relationship."
   ]
  },
  {
   "cell_type": "markdown",
   "metadata": {
    "id": "-ZhL-LX3xrMy"
   },
   "source": [
    "# Part 5: Real World Application"
   ]
  },
  {
   "cell_type": "markdown",
   "metadata": {
    "id": "woPDqlWexzjB"
   },
   "source": [
    "# Load Dataset"
   ]
  },
  {
   "cell_type": "code",
   "execution_count": null,
   "metadata": {
    "id": "EHHbKMaFxP7p"
   },
   "outputs": [],
   "source": [
    "!gdown --id 1Qk5FZxfA_jhDcxI3YmuEIbVgd8ZeldMn"
   ]
  },
  {
   "cell_type": "code",
   "execution_count": null,
   "metadata": {
    "id": "vW7gpsfAyAVg"
   },
   "outputs": [],
   "source": [
    "import pandas as pd\n",
    "\n",
    "# Load the dataset\n",
    "file_path = '/content/BMI Calculation_MJH.xlsx'\n",
    "df = pd.read_excel(file_path)\n",
    "\n",
    "# Display the first few rows to understand its structure\n",
    "df.head()"
   ]
  },
  {
   "cell_type": "code",
   "execution_count": null,
   "metadata": {
    "id": "9Oayf47eyFEW"
   },
   "outputs": [],
   "source": [
    "import statsmodels.api as sm\n",
    "\n",
    "# Correcting the column name for the independent variable\n",
    "X = df[['Hieght (cm)']]  # Independent variable\n",
    "y = df['BMI (Before COVID)']  # Dependent variable\n",
    "\n",
    "# Add a constant to the independent variable to include the intercept in the model\n",
    "X = sm.add_constant(X)\n",
    "\n",
    "# Fit the linear regression model\n",
    "model = sm.OLS(y, X).fit()\n",
    "\n",
    "# Display the regression results\n",
    "print(model.summary())\n"
   ]
  },
  {
   "cell_type": "markdown",
   "metadata": {
    "id": "rjJAf5dCyelC"
   },
   "source": [
    "The regression analysis results provide several key pieces of information about the relationship between height (in cm) and BMI before COVID:\n",
    "\n",
    "- **Regression Coefficient for Hieght (cm):** The coefficient is -0.0537, with a p-value less than 0.05 (p < 0.000), indicating that the relationship between height and BMI before COVID is statistically significant. For every one-centimeter increase in height, the BMI before COVID decreases by approximately 0.0537 units, holding all other factors constant.\n",
    "\n",
    "- **Intercept (const):** The intercept is 31.6293, indicating the expected value of BMI before COVID when height is 0 cm, which is not a realistic scenario but is a part of how the regression equation is structured.\n",
    "\n",
    "- **R-squared:** The R-squared value is 0.015, suggesting that approximately 1.5% of the variability in BMI before COVID is explained by height. This indicates a very weak explanatory power of height on BMI in this model.\n",
    "\n",
    "- **Model Significance:** The F-statistic is 25.05 with a p-value of 6.20e-07, indicating that the model is statistically significant overall."
   ]
  },
  {
   "cell_type": "markdown",
   "metadata": {
    "id": "I6VA-b7IyvkU"
   },
   "source": [
    "**Interpretation:**\n",
    "The significant p-value for the height coefficient suggests a statistically significant relationship between height and BMI before COVID. However, the negative coefficient indicates an inverse relationship, and the low R-squared value suggests that height alone does not strongly predict BMI before COVID, implying that other factors not included in this model may also play a significant role in determining BMI."
   ]
  },
  {
   "cell_type": "code",
   "execution_count": null,
   "metadata": {
    "id": "Y0maCSovySHZ"
   },
   "outputs": [],
   "source": [
    "plt.figure(figsize=(10, 6))\n",
    "sns.scatterplot(x=df['Hieght (cm)'], y=y, label='Data Points')\n",
    "sns.lineplot(x=df['Hieght (cm)'], y=model.predict(X), color='red', label='Regression Line')\n",
    "plt.xlabel('Height (cm)')\n",
    "plt.ylabel('BMI (Before COVID)')\n",
    "plt.title('Simple Linear Regression: Height vs. BMI Before COVID')\n",
    "plt.legend()\n",
    "plt.show()\n"
   ]
  },
  {
   "cell_type": "code",
   "execution_count": null,
   "metadata": {
    "id": "Fv7jvMMGyb3X"
   },
   "outputs": [],
   "source": []
  }
 ],
 "metadata": {
  "colab": {
   "provenance": []
  },
  "kernelspec": {
   "display_name": "Python 3",
   "name": "python3"
  },
  "language_info": {
   "name": "python"
  }
 },
 "nbformat": 4,
 "nbformat_minor": 0
}
